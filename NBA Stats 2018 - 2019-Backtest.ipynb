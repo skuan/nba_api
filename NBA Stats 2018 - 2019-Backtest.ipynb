{
 "cells": [
  {
   "cell_type": "code",
   "execution_count": 1,
   "metadata": {
    "collapsed": true
   },
   "outputs": [],
   "source": [
    "from nba_api.stats.endpoints import commonplayerinfo\n",
    "from nba_api.stats.endpoints._base import Endpoint\n",
    "from nba_api.stats.library.http import NBAStatsHTTP\n",
    "from nba_api.stats.endpoints import playerdashboardbyteamperformance\n",
    "from nba_api.stats.endpoints import leaguedashplayerstats\n",
    "from nba_api.stats.endpoints import teamdashboardbyteamperformance\n",
    "from nba_api.stats.endpoints import playerdashboardbylastngames\n",
    "from nba_api.stats.endpoints import playerdashboardbyyearoveryear\n",
    "from nba_api.stats.endpoints import teamdashboardbylastngames\n",
    "from nba_api.stats.endpoints import teamplayerdashboard\n",
    "from nba_api.stats.static import teams\n",
    "from nba_api.stats.static import players\n",
    "import pandas\n",
    "import inspect"
   ]
  },
  {
   "cell_type": "code",
   "execution_count": 26,
   "metadata": {},
   "outputs": [
    {
     "name": "stdout",
     "output_type": "stream",
     "text": [
      "Enter player 1: lebron james\n",
      "lebron james\n",
      "W_PCT 0.35 GP 20 PTS 553 PLUS_MINUS 19\n"
     ]
    }
   ],
   "source": [
    "#Player Input\n",
    "\n",
    "player1_input = input('Enter player 1: ')\n",
    "print(player1_input)\n",
    "\n",
    "player1 = players.find_players_by_full_name(player1_input)[0]['id']\n",
    "player1_name = players.find_players_by_full_name(player1_input)[0]['full_name']\n",
    "\n",
    "player_info = playerdashboardbylastngames.PlayerDashboardByLastNGames(player_id=player1, season='2018-19')\n",
    "\n",
    "# player_headers = player_info.by_year_player_dashboard.get_dict().get('headers')\n",
    "# player_data = player_info.overall_player_dashboard.get_dict().get('data')[0]\n",
    "\n",
    "# #last 20 games\n",
    "player_headers = player_info.last20_player_dashboard.get_dict().get('headers')\n",
    "player_data = player_info.last20_player_dashboard.get_dict().get('data')[0]\n",
    "\n",
    "print(player_headers[5], player_data[5], \n",
    "\tplayer_headers[2], player_data[2], \n",
    "\tplayer_headers[26], player_data[26],\n",
    "\tplayer_headers[27], player_data[27])"
   ]
  },
  {
   "cell_type": "code",
   "execution_count": 112,
   "metadata": {},
   "outputs": [
    {
     "name": "stdout",
     "output_type": "stream",
     "text": [
      "Enter team 1: clippers\n",
      "clippers\n",
      "1610612746 ['GROUP_SET', 'GROUP_VALUE', 'GP', 'W', 'L', 'W_PCT', 'MIN', 'E_OFF_RATING', 'OFF_RATING', 'E_DEF_RATING', 'DEF_RATING', 'E_NET_RATING', 'NET_RATING', 'AST_PCT', 'AST_TO', 'AST_RATIO', 'OREB_PCT', 'DREB_PCT', 'REB_PCT', 'TM_TOV_PCT', 'EFG_PCT', 'TS_PCT', 'E_PACE', 'PACE', 'PACE_PER40', 'POSS', 'PIE', 'GP_RANK', 'W_RANK', 'L_RANK', 'W_PCT_RANK', 'MIN_RANK', 'OFF_RATING_RANK', 'DEF_RATING_RANK', 'NET_RATING_RANK', 'AST_PCT_RANK', 'AST_TO_RANK', 'AST_RATIO_RANK', 'OREB_PCT_RANK', 'DREB_PCT_RANK', 'REB_PCT_RANK', 'TM_TOV_PCT_RANK', 'EFG_PCT_RANK', 'TS_PCT_RANK', 'PACE_RANK', 'PIE_RANK', 'CFID', 'CFPARAMS'] ['Overall', '2018-19', 1, 1, 0, 1.0, 53.0, 120.0, 119.2, 113.7, 115.1, 6.3, 4.0, 0.63, 2.83, 20.2, 0.25, 0.661, 0.466, 0.1, 0.566, 0.6, 108.6, 108.23, 90.19, 120, 0.516, 1, 1, 1, 1, 1, 1, 1, 1, 1, 1, 1, 1, 1, 1, 1, 1, 1, 1, 1, 163, '2018-19']\n"
     ]
    }
   ],
   "source": [
    "#Team Input\n",
    "\n",
    "team1_input = input('Enter team 1: ')\n",
    "print(team1_input)\n",
    "team1 = teams.find_teams_by_full_name(team1_input)[0]['id']\n",
    "\n",
    "teamdashboard = teamdashboardbylastngames.TeamDashboardByLastNGames(team_id=team1, season='2018-19', last_n_games=1)\n",
    "teamdashboard_adv = teamdashboardbylastngames.TeamDashboardByLastNGames(team_id=team1, season='2018-19', \n",
    "                                                                    measure_type_detailed_defense='Advanced', \n",
    "                                                                        last_n_games=1)\n",
    "\n",
    "##last n games\n",
    "team_headers_basic = teamdashboard.overall_team_dashboard.get_dict().get('headers')\n",
    "team_data_basic = teamdashboard.overall_team_dashboard.get_dict().get('data')[0]\n",
    "team_headers = teamdashboard_adv.overall_team_dashboard.get_dict().get('headers')\n",
    "team_data = teamdashboard_adv.overall_team_dashboard.get_dict().get('data')[0]\n",
    "\n",
    "##last 20 games\n",
    "# team_headers_basic = teamdashboard.last20_team_dashboard.get_dict().get('headers')\n",
    "# team_data_basic = teamdashboard.last20_team_dashboard.get_dict().get('data')[0]\n",
    "# team_headers = teamdashboard_adv.last20_team_dashboard.get_dict().get('headers')\n",
    "# team_data = teamdashboard_adv.last20_team_dashboard.get_dict().get('data')[0]\n",
    "\n",
    "print(team1, team_headers, team_data)\n",
    "# print(team1, team_headers[23], team_data[23], team_headers[8], team_data[8], team_headers[10], team_data[10], \n",
    "#       team_headers[2], team_data[2], team_headers[3], team_data[3], \n",
    "#       team_headers[4], team_data[4], team_headers[21], team_data[21], team_headers[6], team_data[6])"
   ]
  },
  {
   "cell_type": "code",
   "execution_count": 113,
   "metadata": {},
   "outputs": [
    {
     "name": "stdout",
     "output_type": "stream",
     "text": [
      "Danilo Gallinari GP: 1 id: 201568 Min 24.8\n",
      "Garrett Temple GP: 1 id: 202066 Min 21.583333333333332\n",
      "Ivica Zubac GP: 1 id: 1627826 Min 29.783333333333335\n",
      "JaMychal Green GP: 1 id: 203210 Min 25.333333333333332\n",
      "Jerome Robinson GP: 1 id: 1629010 Min 16.45\n",
      "Landry Shamet GP: 1 id: 1629013 Min 29.416666666666668\n",
      "Lou Williams GP: 1 id: 101150 Min 23.316666666666666\n",
      "Montrezl Harrell GP: 1 id: 1626149 Min 20.816666666666666\n",
      "Patrick Beverley GP: 1 id: 201976 Min 21.316666666666666\n",
      "Shai Gilgeous-Alexander GP: 1 id: 1628983 Min 24.1\n",
      "Sindarius Thornwell GP: 1 id: 1628414 Min 7.933333333333334\n",
      "Tyrone Wallace GP: 1 id: 1627820 Min 8.766666666666667\n",
      "Wilson Chandler GP: 1 id: 201163 Min 11.383333333333333\n",
      "['Danilo Gallinari', 'Garrett Temple', 'Ivica Zubac', 'JaMychal Green', 'Jerome Robinson', 'Landry Shamet', 'Lou Williams', 'Montrezl Harrell', 'Patrick Beverley', 'Shai Gilgeous-Alexander', 'Sindarius Thornwell', 'Tyrone Wallace', 'Wilson Chandler']\n"
     ]
    }
   ],
   "source": [
    "roster1 = teamplayerdashboard.TeamPlayerDashboard(team_id=team1, last_n_games=1, season='2018-19').get_dict()#.PlayersSeasonTotals(team_id=team1, last_n_games=20)\n",
    "team1_roster_last20 = []\n",
    "team1_roster_lastn = []\n",
    "#print(roster1)['resultSets'][1])#['rowSet'])\n",
    "for n in roster1['resultSets'][1]['rowSet']:\n",
    "    print(n[2], 'GP:', n[3], 'id:', n[1], 'Min', n[7])\n",
    "    team1_roster_lastn.append(n[2])\n",
    "    \n",
    "print(team1_roster_lastn)\n",
    "#(PER * MP)/n_players"
   ]
  },
  {
   "cell_type": "code",
   "execution_count": 114,
   "metadata": {
    "collapsed": true
   },
   "outputs": [],
   "source": [
    "def off_per_calculator(player, team):\n",
    "    \n",
    "    agg_PER = 0 \n",
    "    agg_adj_PER = 0\n",
    "    num_players = 0\n",
    "    PER_MP = 0\n",
    "    agg_min = 0\n",
    "    \n",
    "    for n in player:\n",
    "        p_id = players.find_players_by_full_name(n)[0]['id']\n",
    "        p_info = playerdashboardbylastngames.PlayerDashboardByLastNGames(player_id=p_id, season='2018-19',\n",
    "                                                                        last_n_games=1)\n",
    "        \n",
    "        ##last 20 games        \n",
    "#         player_headers = p_info.last20_player_dashboard.get_dict().get('headers')\n",
    "#         player_data = p_info.last20_player_dashboard.get_dict().get('data')[0]\n",
    "        \n",
    "        player_headers = p_info.overall_player_dashboard.get_dict().get('headers')\n",
    "        player_data = p_info.overall_player_dashboard.get_dict().get('data')[0]\n",
    "\n",
    " \n",
    "    #####PER player stats####\n",
    "        MP = player_data[6]\n",
    "        ThrP = player_data[10] \n",
    "        AST = player_data[19]\n",
    "        TOV = player_data[20]\n",
    "        FGA = player_data[8]\n",
    "        FG = player_data[7] + player_data[10] \n",
    "        FTA = player_data[14]\n",
    "        FT = player_data[13]\n",
    "        TRB = player_data[18]\n",
    "        ORB = player_data[16]\n",
    "        STL = player_data[21]\n",
    "        BLK = player_data[22]\n",
    "        PF = player_data[24]\n",
    "\n",
    "    ###PER league stats (2018-19)###\n",
    "        lg_AST = 24.6\n",
    "        lg_FG = 41.1\n",
    "        lg_PTS = 111.2\n",
    "        lg_FGA = 89.2\n",
    "        lg_FT = 17.7\n",
    "        lg_FTA = 23.1\n",
    "        lg_TRB = 45.2\n",
    "        lg_ORB = 10.3\n",
    "        lg_TOV = 14.1\n",
    "        lg_PF = 20.9\n",
    "        lg_pace = 100\n",
    "        \n",
    "    ###PER team stats###\n",
    "        team_AST = team_data_basic[19]\n",
    "        team_FG = team_data_basic[7]+team_data_basic[10]\n",
    "        team_pace = team_data[23] \n",
    "       \n",
    "        factor = (2/3) - (0.5*(lg_AST/lg_FG)) / (2*(lg_FG/lg_FT)) \n",
    "        VOP = lg_PTS / (lg_FGA-lg_ORB+lg_TOV+0.44*lg_FTA) \n",
    "        DRB_perc = (lg_TRB -lg_ORB) / lg_TRB\n",
    "\n",
    "    ####PER Calculation####                    \n",
    "        PER_calc_player = (1 / MP) * ( ThrP + (2/3) * AST \n",
    "                                      + (2 - factor * (team_AST / team_FG)) * FG \n",
    "                                      + (FT *0.5 * (1 + (1 - (team_AST / team_FG)) + (2/3) * (team_AST / team_FG)))\n",
    "                                      - VOP * TOV - VOP * DRB_perc * (FGA - FG)\n",
    "                                      - VOP * 0.44 * (0.44 + (0.56 * DRB_perc)) * (FTA - FT)\n",
    "                                      + VOP * (1 - DRB_perc) * (TRB - ORB) + VOP * DRB_perc * ORB \n",
    "                                      + VOP * STL + VOP * DRB_perc * BLK - PF \n",
    "                                      * ((lg_FT / lg_PF) - 0.44 * (lg_FTA / lg_PF) * VOP) )\n",
    "\n",
    "        adj_PER_calc_player = PER_calc_player * (lg_pace /team_pace)\n",
    "        \n",
    "        agg_PER += PER_calc_player \n",
    "        agg_adj_PER += adj_PER_calc_player\n",
    "        num_players +=1\n",
    "        PER_MP += (adj_PER_calc_player * MP)\n",
    "        PER_MP_n = PER_MP/num_players\n",
    "        \n",
    "        print(n, 'Min', MP, 'adj_PER_calc_player', adj_PER_calc_player, 'PER*MP_Player', (adj_PER_calc_player*MP))\n",
    "        \n",
    "    print('Agg_PER * MP', PER_MP)\n",
    "    \n",
    "    print('PERxMP/n', PER_MP_n, 'Total PER', agg_PER, 'Total adj_PER', agg_adj_PER)\n",
    "    print('team ast', team_AST, 'team FG', team_FG, 'team_pace', team_pace)\n",
    "#    print('league stats:', factor, VOP, DRB_perc)"
   ]
  },
  {
   "cell_type": "code",
   "execution_count": 115,
   "metadata": {},
   "outputs": [
    {
     "name": "stdout",
     "output_type": "stream",
     "text": [
      "Danilo Gallinari Min 24.8 adj_PER_calc_player 0.426271056923702 PER*MP_Player 10.57152221170781\n",
      "Garrett Temple Min 21.583333333333332 adj_PER_calc_player 0.3514380730823768 PER*MP_Player 7.585205077361299\n",
      "Ivica Zubac Min 29.783333333333335 adj_PER_calc_player 0.6585686980390959 PER*MP_Player 19.61437105659774\n",
      "JaMychal Green Min 25.333333333333332 adj_PER_calc_player 0.5061284203324381 PER*MP_Player 12.821919981755098\n",
      "Jerome Robinson Min 16.45 adj_PER_calc_player 0.22087037238040508 PER*MP_Player 3.6333176256576634\n",
      "Landry Shamet Min 29.416666666666668 adj_PER_calc_player 0.5033830669166712 PER*MP_Player 14.807851885132079\n",
      "Lou Williams Min 23.316666666666666 adj_PER_calc_player 0.3062138270859272 PER*MP_Player 7.139885734886869\n",
      "Montrezl Harrell Min 20.816666666666666 adj_PER_calc_player 0.9940717283930562 PER*MP_Player 20.693259812715453\n",
      "Patrick Beverley Min 21.316666666666666 adj_PER_calc_player 1.013862675943175 PER*MP_Player 21.612172708855347\n",
      "Shai Gilgeous-Alexander Min 24.1 adj_PER_calc_player 0.2560684550832271 PER*MP_Player 6.171249767505774\n",
      "Sindarius Thornwell Min 7.933333333333334 adj_PER_calc_player 0.20395605855908053 PER*MP_Player 1.618051397902039\n",
      "Tyrone Wallace Min 8.766666666666667 adj_PER_calc_player 0.39050513861315045 PER*MP_Player 3.4234283818419526\n",
      "Wilson Chandler Min 11.383333333333333 adj_PER_calc_player 0.0434085753126711 PER*MP_Player 0.49413428230923934\n",
      "Agg_PER * MP 130.18636992422833\n",
      "PERxMP/n 10.014336148017565 Total PER 6.358237754535503 Total adj_PER 5.874746146664977\n",
      "team ast 34 team FG 66 team_pace 108.23\n"
     ]
    }
   ],
   "source": [
    "off_per_calculator(team1_roster_lastn, team1)"
   ]
  },
  {
   "cell_type": "code",
   "execution_count": 116,
   "metadata": {},
   "outputs": [
    {
     "name": "stdout",
     "output_type": "stream",
     "text": [
      "headers: ['PLAYER_ID', 'PLAYER_NAME', 'TEAM_ID', 'TEAM_ABBREVIATION', 'AGE', 'GP', 'W', 'L', 'W_PCT', 'MIN', 'DEF_RATING', 'DREB', 'DREB_PCT', 'PCT_DREB', 'STL', 'PCT_STL', 'BLK', 'PCT_BLK', 'OPP_PTS_OFF_TOV', 'OPP_PTS_2ND_CHANCE', 'OPP_PTS_FB', 'OPP_PTS_PAINT', 'DEF_WS', 'GP_RANK', 'W_RANK', 'L_RANK', 'W_PCT_RANK', 'MIN_RANK', 'DEF_RATING_RANK', 'DREB_RANK', 'DREB_PCT_RANK', 'PCT_DREB_RANK', 'STL_RANK', 'PCT_STL_RANK', 'BLK_RANK', 'PCT_BLK_RANK', 'OPP_PTS_OFF_TOV_RANK', 'OPP_PTS_2ND_CHANCE_RANK', 'OPP_PTS_FB_RANK', 'OPP_PTS_PAINT_RANK', 'DEF_WS_RANK', 'CFID', 'CFPARAMS']\n",
      "Danilo Gallinari \n",
      " Def Rating 127.3 Min 24.8\n",
      "Garrett Temple \n",
      " Def Rating 104.1 Min 21.583333333333332\n",
      "Ivica Zubac \n",
      " Def Rating 112.5 Min 29.783333333333335\n",
      "JaMychal Green \n",
      " Def Rating 118.6 Min 25.333333333333332\n",
      "Jerome Robinson \n",
      " Def Rating 105.1 Min 16.45\n",
      "Landry Shamet \n",
      " Def Rating 116.7 Min 29.416666666666668\n",
      "Lou Williams \n",
      " Def Rating 109.1 Min 23.316666666666666\n",
      "Montrezl Harrell \n",
      " Def Rating 106.1 Min 20.816666666666666\n",
      "Patrick Beverley \n",
      " Def Rating 127.1 Min 21.316666666666666\n",
      "Shai Gilgeous-Alexander \n",
      " Def Rating 125.0 Min 24.1\n",
      "Sindarius Thornwell \n",
      " Def Rating 116.7 Min 7.933333333333334\n",
      "Tyrone Wallace \n",
      " Def Rating 105.0 Min 8.766666666666667\n",
      "Wilson Chandler \n",
      " Def Rating 96.0 Min 11.383333333333333\n",
      "agg_def_rating 30334.30833333333 avg_def_rating 2333.4083333333333 agg_min 265.0\n"
     ]
    }
   ],
   "source": [
    "#Individual Player Defense Stats\n",
    "\n",
    "agg_def_rating = 0\n",
    "agg_min = 0\n",
    "\n",
    "player_info_def = leaguedashplayerstats.LeagueDashPlayerStats(last_n_games=1, season='2018-19', \n",
    "                                                              measure_type_detailed_defense='Defense')\n",
    "\n",
    "player_def_headers = player_info_def.league_dash_player_stats.get_dict().get('headers')\n",
    "player_def_data = player_info_def.league_dash_player_stats.get_dict().get('data')\n",
    "\n",
    "print('headers:', player_def_headers)\n",
    "#print('data:', player_def_data)\n",
    "\n",
    "for p in team1_roster_lastn:\n",
    "    for n in player_def_data:\n",
    "        if p in n:\n",
    "            print(n[1], '\\n', 'Def Rating', n[10], 'Min', n[9])\n",
    "            agg_def_rating += (n[10]*n[9])\n",
    "            agg_min += n[9]\n",
    "\n",
    "avg_def_rating = agg_def_rating/len(team1_roster_lastn)\n",
    "\n",
    "print('agg_def_rating', agg_def_rating, 'avg_def_rating', avg_def_rating, 'agg_min', agg_min) "
   ]
  },
  {
   "cell_type": "code",
   "execution_count": 117,
   "metadata": {},
   "outputs": [
    {
     "name": "stdout",
     "output_type": "stream",
     "text": [
      "114.46908805031445\n"
     ]
    }
   ],
   "source": [
    "avg_def_rating_min = agg_def_rating/agg_min\n",
    "print(avg_def_rating_min)"
   ]
  },
  {
   "cell_type": "code",
   "execution_count": null,
   "metadata": {
    "collapsed": true
   },
   "outputs": [],
   "source": []
  },
  {
   "cell_type": "code",
   "execution_count": null,
   "metadata": {
    "collapsed": true
   },
   "outputs": [],
   "source": [
    "#Theory: If second game of back-to-back is a road game, odds of winning decrease 7-8%, multiply ratings by 0.93."
   ]
  }
 ],
 "metadata": {
  "kernelspec": {
   "display_name": "Python 3",
   "language": "python",
   "name": "python3"
  },
  "language_info": {
   "codemirror_mode": {
    "name": "ipython",
    "version": 3
   },
   "file_extension": ".py",
   "mimetype": "text/x-python",
   "name": "python",
   "nbconvert_exporter": "python",
   "pygments_lexer": "ipython3",
   "version": "3.6.3"
  }
 },
 "nbformat": 4,
 "nbformat_minor": 2
}
