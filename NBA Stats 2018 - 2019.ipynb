{
 "cells": [
  {
   "cell_type": "code",
   "execution_count": 2,
   "metadata": {
    "collapsed": true
   },
   "outputs": [],
   "source": [
    "from nba_api.stats.endpoints import commonplayerinfo\n",
    "from nba_api.stats.endpoints._base import Endpoint\n",
    "from nba_api.stats.library.http import NBAStatsHTTP\n",
    "from nba_api.stats.endpoints import playerdashboardbyteamperformance\n",
    "from nba_api.stats.endpoints import leaguedashplayerstats\n",
    "from nba_api.stats.endpoints import teamdashboardbyteamperformance\n",
    "from nba_api.stats.endpoints import playerdashboardbylastngames\n",
    "from nba_api.stats.endpoints import playerdashboardbyyearoveryear\n",
    "from nba_api.stats.endpoints import teamdashboardbylastngames\n",
    "from nba_api.stats.endpoints import teamplayerdashboard\n",
    "from nba_api.stats.static import teams\n",
    "from nba_api.stats.static import players\n",
    "import pandas\n",
    "import inspect"
   ]
  },
  {
   "cell_type": "code",
   "execution_count": 26,
   "metadata": {},
   "outputs": [
    {
     "name": "stdout",
     "output_type": "stream",
     "text": [
      "Enter player 1: lebron james\n",
      "lebron james\n",
      "W_PCT 0.35 GP 20 PTS 553 PLUS_MINUS 19\n"
     ]
    }
   ],
   "source": [
    "#Player Input\n",
    "\n",
    "player1_input = input('Enter player 1: ')\n",
    "print(player1_input)\n",
    "\n",
    "player1 = players.find_players_by_full_name(player1_input)[0]['id']\n",
    "player1_name = players.find_players_by_full_name(player1_input)[0]['full_name']\n",
    "\n",
    "player_info = playerdashboardbylastngames.PlayerDashboardByLastNGames(player_id=player1, season='2018-19')\n",
    "\n",
    "# player_headers = player_info.by_year_player_dashboard.get_dict().get('headers')\n",
    "# player_data = player_info.overall_player_dashboard.get_dict().get('data')[0]\n",
    "\n",
    "# #last 20 games\n",
    "player_headers = player_info.last20_player_dashboard.get_dict().get('headers')\n",
    "player_data = player_info.last20_player_dashboard.get_dict().get('data')[0]\n",
    "\n",
    "print(player_headers[5], player_data[5], \n",
    "\tplayer_headers[2], player_data[2], \n",
    "\tplayer_headers[26], player_data[26],\n",
    "\tplayer_headers[27], player_data[27])"
   ]
  },
  {
   "cell_type": "code",
   "execution_count": 3,
   "metadata": {},
   "outputs": [
    {
     "name": "stdout",
     "output_type": "stream",
     "text": [
      "Enter team 1: pacers\n",
      "pacers\n",
      "1610612754 PACE 98.4 OFF_RATING 108.4 DEF_RATING 110.2 GP 20 W 8 L 12 TS_PCT 0.551 MIN 960.0\n"
     ]
    }
   ],
   "source": [
    "#Team Input\n",
    "\n",
    "team1_input = input('Enter team 1: ')\n",
    "print(team1_input)\n",
    "team1 = teams.find_teams_by_full_name(team1_input)[0]['id']\n",
    "\n",
    "teamdashboard = teamdashboardbylastngames.TeamDashboardByLastNGames(team_id=team1, season='2018-19')\n",
    "teamdashboard_adv = teamdashboardbylastngames.TeamDashboardByLastNGames(team_id=team1, season='2018-19', \n",
    "                                                                    measure_type_detailed_defense='Advanced')\n",
    "\n",
    "#team_headers = teamdashboard.overall_team_dashboard.get_dict().get('headers')\n",
    "#team_data = teamdashboard.overall_team_dashboard.get_dict().get('data')[0]\n",
    "\n",
    "##last 20 games\n",
    "team_headers_basic = teamdashboard.last20_team_dashboard.get_dict().get('headers')\n",
    "team_data_basic = teamdashboard.last20_team_dashboard.get_dict().get('data')[0]\n",
    "team_headers = teamdashboard_adv.last20_team_dashboard.get_dict().get('headers')\n",
    "team_data = teamdashboard_adv.last20_team_dashboard.get_dict().get('data')[0]\n",
    "\n",
    "# print(team1, team_headers, team_data)\n",
    "print(team1, team_headers[23], team_data[23], team_headers[8], team_data[8], team_headers[10], team_data[10], \n",
    "      team_headers[2], team_data[2], team_headers[3], team_data[3], \n",
    "      team_headers[4], team_data[4], team_headers[21], team_data[21], team_headers[6], team_data[6])"
   ]
  },
  {
   "cell_type": "code",
   "execution_count": 4,
   "metadata": {},
   "outputs": [
    {
     "name": "stdout",
     "output_type": "stream",
     "text": [
      "Aaron Holiday GP: 12 id: 1628988 Min 204.40833333333333\n",
      "Alize Johnson GP: 3 id: 1628993 Min 32.583333333333336\n",
      "Bojan Bogdanovic GP: 19 id: 202711 Min 603.1033333333334\n",
      "Cory Joseph GP: 20 id: 202709 Min 474.72333333333336\n",
      "Darren Collison GP: 14 id: 201954 Min 401.8233333333333\n",
      "Davon Reed GP: 3 id: 1628432 Min 26.516666666666666\n",
      "Domantas Sabonis GP: 15 id: 1627734 Min 371.79333333333335\n",
      "Doug McDermott GP: 20 id: 203926 Min 357.09833333333336\n",
      "Edmond Sumner GP: 6 id: 1628410 Min 42.916666666666664\n",
      "Kyle O'Quinn GP: 10 id: 203124 Min 95.26166666666667\n",
      "Myles Turner GP: 19 id: 1626167 Min 563.7166666666667\n",
      "TJ Leaf GP: 17 id: 1628388 Min 169.87\n",
      "Thaddeus Young GP: 19 id: 201152 Min 608.9\n",
      "Tyreke Evans GP: 15 id: 201936 Min 313.56166666666667\n",
      "Wesley Matthews GP: 17 id: 202083 Min 533.7233333333334\n",
      "['Aaron Holiday', 'Alize Johnson', 'Bojan Bogdanovic', 'Cory Joseph', 'Darren Collison', 'Davon Reed', 'Domantas Sabonis', 'Doug McDermott', 'Edmond Sumner', \"Kyle O'Quinn\", 'Myles Turner', 'TJ Leaf', 'Thaddeus Young', 'Tyreke Evans', 'Wesley Matthews']\n"
     ]
    }
   ],
   "source": [
    "roster1 = teamplayerdashboard.TeamPlayerDashboard(team_id=team1, last_n_games=20, season='2018-19').get_dict()#.PlayersSeasonTotals(team_id=team1, last_n_games=20)\n",
    "team1_roster_last20 = []\n",
    "\n",
    "#print(roster1)['resultSets'][1])#['rowSet'])\n",
    "for n in roster1['resultSets'][1]['rowSet']:\n",
    "    print(n[2], 'GP:', n[3], 'id:', n[1], 'Min', n[7])\n",
    "    team1_roster_last20.append(n[2])\n",
    "    \n",
    "print(team1_roster_last20)\n",
    "#(PER * MP)/n_players"
   ]
  },
  {
   "cell_type": "code",
   "execution_count": 19,
   "metadata": {
    "collapsed": true
   },
   "outputs": [],
   "source": [
    "def off_per_calculator(player, team):\n",
    "    \n",
    "    agg_PER = 0 \n",
    "    agg_adj_PER = 0\n",
    "    num_players = 0\n",
    "    PER_MP = 0\n",
    "    agg_min = 0\n",
    "    \n",
    "    for n in player:\n",
    "        p_id = players.find_players_by_full_name(n)[0]['id']\n",
    "        p_info = playerdashboardbylastngames.PlayerDashboardByLastNGames(player_id=p_id, season='2018-19')\n",
    "        ##last 20 games        \n",
    "        player_headers = p_info.last20_player_dashboard.get_dict().get('headers')\n",
    "        player_data = p_info.last20_player_dashboard.get_dict().get('data')[0]\n",
    "        # player_headers = player_info.overall_player_dashboard.get_dict().get('headers')\n",
    "        # player_data = player_info.overall_player_dashboard.get_dict().get('data')[0]\n",
    "\n",
    " \n",
    "    #####PER player stats####\n",
    "        MP = player_data[6]\n",
    "        ThrP = player_data[10] \n",
    "        AST = player_data[19]\n",
    "        TOV = player_data[20]\n",
    "        FGA = player_data[8]\n",
    "        FG = player_data[7] + player_data[10] \n",
    "        FTA = player_data[14]\n",
    "        FT = player_data[13]\n",
    "        TRB = player_data[18]\n",
    "        ORB = player_data[16]\n",
    "        STL = player_data[21]\n",
    "        BLK = player_data[22]\n",
    "        PF = player_data[24]\n",
    "\n",
    "    ###PER league stats (2018-19)###\n",
    "        lg_AST = 24.6\n",
    "        lg_FG = 41.1\n",
    "        lg_PTS = 111.2\n",
    "        lg_FGA = 89.2\n",
    "        lg_FT = 17.7\n",
    "        lg_FTA = 23.1\n",
    "        lg_TRB = 45.2\n",
    "        lg_ORB = 10.3\n",
    "        lg_TOV = 14.1\n",
    "        lg_PF = 20.9\n",
    "        lg_pace = 100\n",
    "        \n",
    "    ###PER team stats###\n",
    "        team_AST = team_data_basic[19]\n",
    "        team_FG = team_data_basic[7]+team_data_basic[10]\n",
    "        team_pace = team_data[23] \n",
    "       \n",
    "        factor = (2/3) - (0.5*(lg_AST/lg_FG)) / (2*(lg_FG/lg_FT)) \n",
    "        VOP = lg_PTS / (lg_FGA-lg_ORB+lg_TOV+0.44*lg_FTA) \n",
    "        DRB_perc = (lg_TRB -lg_ORB) / lg_TRB\n",
    "\n",
    "    ####PER Calculation####                    \n",
    "        PER_calc_player = (1 / MP) * ( ThrP + (2/3) * AST \n",
    "                                      + (2 - factor * (team_AST / team_FG)) * FG \n",
    "                                      + (FT *0.5 * (1 + (1 - (team_AST / team_FG)) + (2/3) * (team_AST / team_FG)))\n",
    "                                      - VOP * TOV - VOP * DRB_perc * (FGA - FG)\n",
    "                                      - VOP * 0.44 * (0.44 + (0.56 * DRB_perc)) * (FTA - FT)\n",
    "                                      + VOP * (1 - DRB_perc) * (TRB - ORB) + VOP * DRB_perc * ORB \n",
    "                                      + VOP * STL + VOP * DRB_perc * BLK - PF \n",
    "                                      * ((lg_FT / lg_PF) - 0.44 * (lg_FTA / lg_PF) * VOP) )\n",
    "\n",
    "        adj_PER_calc_player = PER_calc_player * (lg_pace /team_pace)\n",
    "        \n",
    "        agg_PER += PER_calc_player \n",
    "        agg_adj_PER += adj_PER_calc_player\n",
    "        num_players +=1\n",
    "        PER_MP += (adj_PER_calc_player * MP)\n",
    "        PER_MP_n = PER_MP/num_players\n",
    "        \n",
    "        print(n, 'Min', MP, 'adj_PER_calc_player', adj_PER_calc_player, 'PER*MP_Player', (adj_PER_calc_player*MP))\n",
    "        \n",
    "    print('Agg_PER * MP', PER_MP)\n",
    "    \n",
    "    print('PERxMP/n', PER_MP_n, 'Total PER', agg_PER, 'Total adj_PER', agg_adj_PER)\n",
    "    print('team ast', team_AST, 'team FG', team_FG, 'team_pace', team_pace)\n",
    "#    print('league stats:', factor, VOP, DRB_perc)"
   ]
  },
  {
   "cell_type": "code",
   "execution_count": 20,
   "metadata": {},
   "outputs": [
    {
     "name": "stdout",
     "output_type": "stream",
     "text": [
      "Aaron Holiday Min 328.2583333333333 adj_PER_calc_player 0.36860232998915293 PER*MP_Player 120.99678650502268\n",
      "Alize Johnson Min 64.43333333333334 adj_PER_calc_player 0.17767586026860002 PER*MP_Player 11.448247929973462\n",
      "Bojan Bogdanovic Min 636.82 adj_PER_calc_player 0.5892846533394052 PER*MP_Player 375.2682529396\n",
      "Cory Joseph Min 474.72333333333336 adj_PER_calc_player 0.2472023252449888 PER*MP_Player 117.35271184805191\n",
      "Darren Collison Min 579.5616666666666 adj_PER_calc_player 0.485969511029617 PER*MP_Player 281.64929976150984\n",
      "Davon Reed Min 46.916666666666664 adj_PER_calc_player 0.28843249934941256 PER*MP_Player 13.53229142780994\n",
      "Domantas Sabonis Min 499.01 adj_PER_calc_player 0.45378521322509796 PER*MP_Player 226.44335925145612\n",
      "Doug McDermott Min 357.09833333333336 adj_PER_calc_player 0.4357358968842282 PER*MP_Player 155.6005625508631\n",
      "Edmond Sumner Min 197.93166666666667 adj_PER_calc_player 0.2718681680875264 PER*MP_Player 53.81131962317758\n",
      "Kyle O'Quinn Min 181.35333333333332 adj_PER_calc_player 0.37923463794135137 PER*MP_Player 68.77546570612387\n",
      "Myles Turner Min 594.35 adj_PER_calc_player 0.4814994598825236 PER*MP_Player 286.1792039811779\n",
      "TJ Leaf Min 210.87 adj_PER_calc_player 0.4927050344857376 PER*MP_Player 103.89671062200749\n",
      "Thaddeus Young Min 640.835 adj_PER_calc_player 0.4044807280572733 PER*MP_Player 259.20540736458275\n",
      "Tyreke Evans Min 401.395 adj_PER_calc_player 0.35683363962873194 PER*MP_Player 143.23123877877484\n",
      "Wesley Matthews Min 634.9233333333333 adj_PER_calc_player 0.35509089224140583 PER*MP_Player 225.45549293822086\n",
      "Agg_PER * MP 2442.846351228352\n",
      "5.788400849655053 PERxMP/n 162.85642341522347 agg_min 5848.4800000000005 agg_PER/min 0.0009897273906476645\n",
      "team ast 515 team FG 986 team_pace 98.4\n"
     ]
    }
   ],
   "source": [
    "off_per_calculator(team1_roster_last20, team1)"
   ]
  },
  {
   "cell_type": "code",
   "execution_count": 15,
   "metadata": {},
   "outputs": [
    {
     "name": "stdout",
     "output_type": "stream",
     "text": [
      "headers: ['PLAYER_ID', 'PLAYER_NAME', 'TEAM_ID', 'TEAM_ABBREVIATION', 'AGE', 'GP', 'W', 'L', 'W_PCT', 'MIN', 'DEF_RATING', 'DREB', 'DREB_PCT', 'PCT_DREB', 'STL', 'PCT_STL', 'BLK', 'PCT_BLK', 'OPP_PTS_OFF_TOV', 'OPP_PTS_2ND_CHANCE', 'OPP_PTS_FB', 'OPP_PTS_PAINT', 'DEF_WS', 'GP_RANK', 'W_RANK', 'L_RANK', 'W_PCT_RANK', 'MIN_RANK', 'DEF_RATING_RANK', 'DREB_RANK', 'DREB_PCT_RANK', 'PCT_DREB_RANK', 'STL_RANK', 'PCT_STL_RANK', 'BLK_RANK', 'PCT_BLK_RANK', 'OPP_PTS_OFF_TOV_RANK', 'OPP_PTS_2ND_CHANCE_RANK', 'OPP_PTS_FB_RANK', 'OPP_PTS_PAINT_RANK', 'DEF_WS_RANK', 'CFID', 'CFPARAMS']\n",
      "Aaron Holiday \n",
      " Def Rating 103.4 Min 204.40833333333333\n",
      "Alize Johnson \n",
      " Def Rating 107.9 Min 32.583333333333336\n",
      "Bojan Bogdanovic \n",
      " Def Rating 107.9 Min 603.1033333333334\n",
      "Cory Joseph \n",
      " Def Rating 107.2 Min 474.72333333333336\n",
      "Darren Collison \n",
      " Def Rating 114.1 Min 401.8233333333333\n",
      "Davon Reed \n",
      " Def Rating 113.3 Min 26.516666666666666\n",
      "Domantas Sabonis \n",
      " Def Rating 107.0 Min 371.79333333333335\n",
      "Doug McDermott \n",
      " Def Rating 107.4 Min 357.09833333333336\n",
      "Edmond Sumner \n",
      " Def Rating 117.2 Min 42.916666666666664\n",
      "Kyle O'Quinn \n",
      " Def Rating 113.6 Min 95.26166666666667\n",
      "Myles Turner \n",
      " Def Rating 109.0 Min 563.7166666666667\n",
      "TJ Leaf \n",
      " Def Rating 106.1 Min 169.87\n",
      "Thaddeus Young \n",
      " Def Rating 110.3 Min 608.9\n",
      "Tyreke Evans \n",
      " Def Rating 108.1 Min 313.56166666666667\n",
      "Wesley Matthews \n",
      " Def Rating 111.7 Min 533.7233333333334\n",
      "agg_def_rating 523597.8474999999 avg_def_rating 34906.52316666666 agg_min 4800.0\n"
     ]
    }
   ],
   "source": [
    "#Individual Player Defense Stats\n",
    "\n",
    "agg_def_rating = 0\n",
    "agg_min = 0\n",
    "\n",
    "player_info_def = leaguedashplayerstats.LeagueDashPlayerStats(last_n_games=20, season='2018-19', \n",
    "                                                              measure_type_detailed_defense='Defense')\n",
    "\n",
    "player_def_headers = player_info_def.league_dash_player_stats.get_dict().get('headers')\n",
    "player_def_data = player_info_def.league_dash_player_stats.get_dict().get('data')\n",
    "\n",
    "print('headers:', player_def_headers)\n",
    "#print('data:', player_def_data)\n",
    "\n",
    "for p in team1_roster_last20:\n",
    "    for n in player_def_data:\n",
    "        if p in n:\n",
    "            print(n[1], '\\n', 'Def Rating', n[10], 'Min', n[9])\n",
    "            agg_def_rating += (n[10]*n[9])\n",
    "            agg_min += n[9]\n",
    "\n",
    "avg_def_rating = agg_def_rating/len(team1_roster_last20)\n",
    "\n",
    "print('agg_def_rating', agg_def_rating, 'avg_def_rating', avg_def_rating, 'agg_min', agg_min) "
   ]
  },
  {
   "cell_type": "code",
   "execution_count": 16,
   "metadata": {},
   "outputs": [
    {
     "name": "stdout",
     "output_type": "stream",
     "text": [
      "109.08288489583332\n"
     ]
    }
   ],
   "source": [
    "avg_def_rating_min = agg_def_rating/agg_min\n",
    "print(avg_def_rating_min)"
   ]
  },
  {
   "cell_type": "code",
   "execution_count": null,
   "metadata": {
    "collapsed": true
   },
   "outputs": [],
   "source": []
  },
  {
   "cell_type": "code",
   "execution_count": null,
   "metadata": {
    "collapsed": true
   },
   "outputs": [],
   "source": [
    "#Theory: If second game of back-to-back is a road game, odds of winning decrease 7-8%, multiply ratings by 0.93."
   ]
  }
 ],
 "metadata": {
  "kernelspec": {
   "display_name": "Python 3",
   "language": "python",
   "name": "python3"
  },
  "language_info": {
   "codemirror_mode": {
    "name": "ipython",
    "version": 3
   },
   "file_extension": ".py",
   "mimetype": "text/x-python",
   "name": "python",
   "nbconvert_exporter": "python",
   "pygments_lexer": "ipython3",
   "version": "3.6.3"
  }
 },
 "nbformat": 4,
 "nbformat_minor": 2
}
