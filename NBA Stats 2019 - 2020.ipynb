{
 "cells": [
  {
   "cell_type": "code",
   "execution_count": 3,
   "metadata": {
    "collapsed": true
   },
   "outputs": [],
   "source": [
    "from nba_api.stats.endpoints import commonplayerinfo\n",
    "from nba_api.stats.endpoints._base import Endpoint\n",
    "from nba_api.stats.library.http import NBAStatsHTTP\n",
    "from nba_api.stats.endpoints import playerdashboardbyteamperformance\n",
    "from nba_api.stats.endpoints import leaguedashplayerstats\n",
    "from nba_api.stats.endpoints import teamdashboardbyteamperformance\n",
    "from nba_api.stats.endpoints import playerdashboardbylastngames\n",
    "from nba_api.stats.endpoints import playerdashboardbyyearoveryear\n",
    "from nba_api.stats.endpoints import teamdashboardbylastngames\n",
    "from nba_api.stats.endpoints import teamplayerdashboard\n",
    "from nba_api.stats.endpoints import teamdashlineups\n",
    "from nba_api.stats.static import teams\n",
    "from nba_api.stats.static import players\n",
    "import pandas\n",
    "import inspect"
   ]
  },
  {
   "cell_type": "code",
   "execution_count": 6,
   "metadata": {},
   "outputs": [
    {
     "name": "stdout",
     "output_type": "stream",
     "text": [
      "Enter player 1: lebron james\n",
      "lebron james\n",
      "['GROUP_SET', 'GROUP_VALUE', 'GP', 'W', 'L', 'W_PCT', 'MIN', 'FGM', 'FGA', 'FG_PCT', 'FG3M', 'FG3A', 'FG3_PCT', 'FTM', 'FTA', 'FT_PCT', 'OREB', 'DREB', 'REB', 'AST', 'TOV', 'STL', 'BLK', 'BLKA', 'PF', 'PFD', 'PTS', 'PLUS_MINUS', 'NBA_FANTASY_PTS', 'DD2', 'TD3', 'GP_RANK', 'W_RANK', 'L_RANK', 'W_PCT_RANK', 'MIN_RANK', 'FGM_RANK', 'FGA_RANK', 'FG_PCT_RANK', 'FG3M_RANK', 'FG3A_RANK', 'FG3_PCT_RANK', 'FTM_RANK', 'FTA_RANK', 'FT_PCT_RANK', 'OREB_RANK', 'DREB_RANK', 'REB_RANK', 'AST_RANK', 'TOV_RANK', 'STL_RANK', 'BLK_RANK', 'BLKA_RANK', 'PF_RANK', 'PFD_RANK', 'PTS_RANK', 'PLUS_MINUS_RANK', 'NBA_FANTASY_PTS_RANK', 'DD2_RANK', 'TD3_RANK', 'CFID', 'CFPARAMS'] \n",
      " []\n"
     ]
    }
   ],
   "source": [
    "#Player Input\n",
    "\n",
    "player1_input = input('Enter player 1: ')\n",
    "print(player1_input)\n",
    "\n",
    "player1 = players.find_players_by_full_name(player1_input)[0]['id']\n",
    "player1_name = players.find_players_by_full_name(player1_input)[0]['full_name']\n",
    "\n",
    "player_info = playerdashboardbylastngames.PlayerDashboardByLastNGames(player_id=player1, season='2018-19')\n",
    "\n",
    "player_headers = player_info.overall_player_dashboard.get_dict().get('headers')\n",
    "player_data = player_info.overall_player_dashboard.get_dict().get('data')#[0]\n",
    "\n",
    "# #last 20 games\n",
    "# player_headers = player_info.last20_player_dashboard.get_dict().get('headers')\n",
    "# player_data = player_info.last20_player_dashboard.get_dict().get('data')[0]\n",
    "print(player_headers, '\\n' , player_data)\n",
    "# print(player_headers[5], player_data[5], \n",
    "# \tplayer_headers[2], player_data[2], \n",
    "# \tplayer_headers[26], player_data[26],\n",
    "# \tplayer_headers[27], player_data[27])"
   ]
  },
  {
   "cell_type": "code",
   "execution_count": 168,
   "metadata": {},
   "outputs": [
    {
     "name": "stdout",
     "output_type": "stream",
     "text": [
      "Enter team 1: magic\n",
      "magic\n",
      "1610612753 PACE 100.0 OFF_RATING 95.0 DEF_RATING 99.4 GP 5 W 2 L 3 TS_PCT 0.48 MIN 240.0\n"
     ]
    }
   ],
   "source": [
    "#Team Input\n",
    "\n",
    "team1_input = input('Enter team 1: ')\n",
    "print(team1_input)\n",
    "team1 = teams.find_teams_by_full_name(team1_input)[0]['id']\n",
    "\n",
    "teamdashboard = teamdashboardbylastngames.TeamDashboardByLastNGames(team_id=team1, season='2019-20')\n",
    "teamdashboard_adv = teamdashboardbylastngames.TeamDashboardByLastNGames(team_id=team1, season='2019-20', \n",
    "                                                                    measure_type_detailed_defense='Advanced')\n",
    "\n",
    "#team_headers = teamdashboard.overall_team_dashboard.get_dict().get('headers')\n",
    "#team_data = teamdashboard.overall_team_dashboard.get_dict().get('data')[0]\n",
    "\n",
    "##last 20 games\n",
    "team_headers_basic = teamdashboard.last20_team_dashboard.get_dict().get('headers')\n",
    "team_data_basic = teamdashboard.last20_team_dashboard.get_dict().get('data')[0]\n",
    "team_headers = teamdashboard_adv.last20_team_dashboard.get_dict().get('headers')\n",
    "team_data = teamdashboard_adv.last20_team_dashboard.get_dict().get('data')[0]\n",
    "\n",
    "# print(team1, team_headers, team_data)\n",
    "print(team1, team_headers[23], team_data[23], team_headers[8], team_data[8], team_headers[10], team_data[10], \n",
    "      team_headers[2], team_data[2], team_headers[3], team_data[3], \n",
    "      team_headers[4], team_data[4], team_headers[21], team_data[21], team_headers[6], team_data[6])"
   ]
  },
  {
   "cell_type": "code",
   "execution_count": 169,
   "metadata": {},
   "outputs": [
    {
     "name": "stdout",
     "output_type": "stream",
     "text": [
      "Aaron Gordon GP: 2 id: 203932 Min 56.416666666666664\n",
      "Al-Farouq Aminu GP: 2 id: 202329 Min 46.63333333333333\n",
      "Amile Jefferson GP: 1 id: 1628518 Min 5.6\n",
      "D.J. Augustin GP: 2 id: 201571 Min 50.95\n",
      "Evan Fournier GP: 2 id: 203095 Min 49.68333333333333\n",
      "Jonathan Isaac GP: 2 id: 1628371 Min 60.233333333333334\n",
      "Josh Magette GP: 1 id: 203705 Min 5.6\n",
      "Khem Birch GP: 1 id: 203920 Min 22.916666666666668\n",
      "Markelle Fultz GP: 2 id: 1628365 Min 39.45\n",
      "Melvin Frazier Jr. GP: 1 id: 1628982 Min 5.6\n",
      "Michael Carter-Williams GP: 1 id: 203487 Min 7.916666666666667\n",
      "Mo Bamba GP: 1 id: 1628964 Min 14.15\n",
      "Nikola Vucevic GP: 2 id: 202696 Min 58.93333333333333\n",
      "Terrence Ross GP: 2 id: 203082 Min 43.18333333333333\n",
      "Wes Iwundu GP: 1 id: 1628411 Min 12.733333333333333\n",
      "['Aaron Gordon', 'Al-Farouq Aminu', 'Amile Jefferson', 'D.J. Augustin', 'Evan Fournier', 'Jonathan Isaac', 'Josh Magette', 'Khem Birch', 'Markelle Fultz', 'Melvin Frazier Jr.', 'Michael Carter-Williams', 'Mo Bamba', 'Nikola Vucevic', 'Terrence Ross', 'Wes Iwundu']\n"
     ]
    }
   ],
   "source": [
    "roster1 = teamplayerdashboard.TeamPlayerDashboard(team_id=team1, last_n_games=2, season='2019-20').get_dict()#.PlayersSeasonTotals(team_id=team1, last_n_games=20)\n",
    "team1_roster_last20 = []\n",
    "team1_roster_lastn = []\n",
    "#print(roster1)['resultSets'][1])#['rowSet'])\n",
    "for n in roster1['resultSets'][1]['rowSet']:\n",
    "    print(n[2], 'GP:', n[3], 'id:', n[1], 'Min', n[7])\n",
    "    team1_roster_lastn.append(n[2])\n",
    "    \n",
    "print(team1_roster_lastn)\n",
    "#(PER * MP)/n_players\n",
    "\n",
    "# #roster1 = teamplayerdashboard.TeamPlayerDashboard(team_id=team1, last_n_games=20, season='2018-19').get_dict()#.PlayersSeasonTotals(team_id=team1, last_n_games=20)\n",
    "# team1_roster_last20 = []\n",
    "\n",
    "# roster1 = teamdashlineups.TeamDashLineups(team_id=1610612747, season='2019-20').get_dict()\n",
    "\n",
    "# #print(roster1)['resultSets'][1])#['rowSet'])\n",
    "# for n in roster1['resultSets'][1]['rowSet']:\n",
    "#     print(n[2], 'GP:', n[3], 'id:', n[1], 'Min', n[7])\n",
    "#     team1_roster_last20.append(n[2])\n",
    "    \n",
    "# print(team1_roster_last20)\n",
    "# #(PER * MP)/n_players"
   ]
  },
  {
   "cell_type": "code",
   "execution_count": 170,
   "metadata": {},
   "outputs": [],
   "source": [
    "def off_per_calculator(player, team):\n",
    "    \n",
    "    aPER_MP = 0\n",
    "    PER_MP = 0\n",
    "    PER_MP_n = 0\n",
    "    num_players = 0\n",
    "    agg_min = 0\n",
    "    PER = 0\n",
    "    agg_PER = 0\n",
    "        \n",
    "    for n in player:\n",
    "        if players.find_players_by_full_name(n):\n",
    "            p_id = players.find_players_by_full_name(n)[0]['id']\n",
    "            p_info = playerdashboardbylastngames.PlayerDashboardByLastNGames(player_id=p_id, season='2019-20',\n",
    "                                                                        last_n_games=5)\n",
    "        \n",
    "        ##last 20 games        \n",
    "#         player_headers = p_info.last20_player_dashboard.get_dict().get('headers')\n",
    "#         player_data = p_info.last20_player_dashboard.get_dict().get('data')[0]\n",
    "        \n",
    "        player_headers = p_info.overall_player_dashboard.get_dict().get('headers')\n",
    "        player_data = p_info.overall_player_dashboard.get_dict().get('data')[0]\n",
    "\n",
    " \n",
    "    #####PER player stats####\n",
    "        MP = player_data[6]\n",
    "        ThrP = player_data[10] \n",
    "        AST = player_data[19]\n",
    "        TOV = player_data[20]\n",
    "        FGA = player_data[8]\n",
    "        FG = player_data[7] + player_data[10] \n",
    "        FTA = player_data[14]\n",
    "        FT = player_data[13]\n",
    "        TRB = player_data[18]\n",
    "        ORB = player_data[16]\n",
    "        STL = player_data[21]\n",
    "        BLK = player_data[22]\n",
    "        PF = player_data[24]\n",
    "\n",
    "    ###PER league stats (2018-19)###\n",
    "        lg_AST = 24.6\n",
    "        lg_FG = 41.1\n",
    "        lg_PTS = 111.2\n",
    "        lg_FGA = 89.2\n",
    "        lg_FT = 17.7\n",
    "        lg_FTA = 23.1\n",
    "        lg_TRB = 45.2\n",
    "        lg_ORB = 10.3\n",
    "        lg_TOV = 14.1\n",
    "        lg_PF = 20.9\n",
    "        lg_pace = 100\n",
    "        \n",
    "    ###PER team stats###\n",
    "        team_AST = team_data_basic[19]\n",
    "        team_FG = team_data_basic[7]+team_data_basic[10]\n",
    "        team_pace = team_data[23] \n",
    "       \n",
    "        factor = (2/3) - (0.5*(lg_AST/lg_FG)) / (2*(lg_FG/lg_FT)) \n",
    "        VOP = lg_PTS / (lg_FGA-lg_ORB+lg_TOV+0.44*lg_FTA) \n",
    "        DRB_perc = (lg_TRB -lg_ORB) / lg_TRB\n",
    "\n",
    "    ####PER Calculation####                    \n",
    "        uPER = (1 / MP) * (\n",
    "            ThrP \n",
    "            + (2/3) * AST \n",
    "            + (2 - factor * (team_AST / team_FG)) * FG \n",
    "            + (FT *0.5 * (1 + (1 - (team_AST / team_FG)) \n",
    "                          + (2/3) * (team_AST / team_FG)))\n",
    "            - VOP * TOV \n",
    "            - VOP * DRB_perc * (FGA - FG)\n",
    "            - VOP * 0.44 * (0.44 + (0.56 * DRB_perc)) * (FTA - FT)\n",
    "            + VOP * (1 - DRB_perc) * (TRB - ORB) \n",
    "            + VOP * DRB_perc * ORB \n",
    "            + VOP * STL \n",
    "            + VOP * DRB_perc * BLK \n",
    "            - PF * ((lg_FT / lg_PF) - 0.44 * (lg_FTA / lg_PF) * VOP) )\n",
    "               \n",
    "        \n",
    "\n",
    "        aPER = uPER * (lg_pace /team_pace)\n",
    "        PER = aPER*50\n",
    "         \n",
    "        num_players +=1\n",
    "        aPER_MP = aPER*MP\n",
    "        PER_MP += aPER_MP*50\n",
    "        agg_min += MP\n",
    "        agg_PER += PER\n",
    "        PER_MP_n = PER_MP/num_players\n",
    "\n",
    "        print(n, 'Min', MP, 'aPER', aPER, 'PER', PER, 'aPER_MP', aPER_MP)\n",
    "        \n",
    "    print('agg_PER', agg_PER)\n",
    "    print('PER_MP_n', PER_MP/(num_players*5))\n",
    "    \n",
    "    print('team ast', team_AST, 'team FG', team_FG, 'team_pace', team_pace)\n",
    "#    print('league stats:', factor, VOP, DRB_perc)\n"
   ]
  },
  {
   "cell_type": "code",
   "execution_count": 171,
   "metadata": {},
   "outputs": [
    {
     "name": "stdout",
     "output_type": "stream",
     "text": [
      "Aaron Gordon Min 145.4 aPER 0.3446370407627428 PER 17.23185203813714 aPER_MP 50.110225726902804\n",
      "Al-Farouq Aminu Min 117.95833333333333 aPER 0.3050594181760107 PER 15.252970908800535 aPER_MP 35.98430053567859\n",
      "Amile Jefferson Min 5.6 aPER 0.808085009251445 PER 40.40425046257225 aPER_MP 4.525276051808092\n",
      "D.J. Augustin Min 124.88333333333334 aPER 0.3154973680584753 PER 15.774868402923763 aPER_MP 39.400362981035926\n",
      "Evan Fournier Min 136.35 aPER 0.5565055351931562 PER 27.825276759657807 aPER_MP 75.87952972358684\n",
      "Jonathan Isaac Min 142.525 aPER 0.5248216637257473 PER 26.241083186287366 aPER_MP 74.80020762251215\n",
      "Josh Magette Min 5.6 aPER 0.7767611774636731 PER 38.838058873183655 aPER_MP 4.349862593796569\n",
      "Khem Birch Min 22.916666666666668 aPER 0.01486832982733113 PER 0.7434164913665565 aPER_MP 0.3407325585430051\n",
      "Markelle Fultz Min 113.86666666666666 aPER 0.3097066344618397 PER 15.485331723091985 aPER_MP 35.26526211072148\n",
      "Melvin Frazier Jr. Min 5.6 aPER -0.13893244557324386 PER -6.9466222786621925 aPER_MP -0.7780216952101655\n",
      "Michael Carter-Williams Min 52.40833333333333 aPER 0.3054678829306915 PER 15.273394146534574 aPER_MP 16.009062631259322\n",
      "Mo Bamba Min 54.75 aPER 0.4249060283338654 PER 21.24530141669327 aPER_MP 23.263605051279132\n",
      "Nikola Vucevic Min 149.33333333333334 aPER 0.43559044846233574 PER 21.779522423116788 aPER_MP 65.04817363704214\n",
      "Terrence Ross Min 110.075 aPER 0.16896190536278236 PER 8.448095268139118 aPER_MP 18.598481732808267\n",
      "Wes Iwundu Min 12.733333333333333 aPER -0.21111407360826892 PER -10.555703680413446 aPER_MP -2.6881858706119575\n",
      "agg_PER 247.04109614142914\n",
      "PER_MP_n 293.4059169274348\n",
      "team ast 106 team FG 227 team_pace 100.0\n"
     ]
    }
   ],
   "source": [
    "off_per_calculator(team1_roster_lastn, team1)"
   ]
  },
  {
   "cell_type": "code",
   "execution_count": 172,
   "metadata": {
    "collapsed": true
   },
   "outputs": [],
   "source": [
    "#Alternate Offensive Rating\n",
    "\n",
    "def off_per_calc_alt(player, team):\n",
    "    \n",
    "    agg_off_rating = 0\n",
    "    agg_min = 0\n",
    "\n",
    "    player_info_off = leaguedashplayerstats.LeagueDashPlayerStats(last_n_games=5, season='2019-20', \n",
    "                                                                  measure_type_detailed_defense='Advanced')\n",
    "\n",
    "    player_off_headers = player_info_off.league_dash_player_stats.get_dict().get('headers')\n",
    "    player_off_data = player_info_off.league_dash_player_stats.get_dict().get('data')\n",
    "\n",
    "#     print('headers:', player_off_headers)\n",
    "    #print('data:', player_def_data)\n",
    "\n",
    "    for p in team1_roster_lastn:\n",
    "        for n in player_off_data:\n",
    "            if p in n:\n",
    "                print(n[1], '\\n', 'E_Off_Rating', n[10], 'Min', n[9])\n",
    "                agg_off_rating += (n[10]*n[9])\n",
    "                agg_min += n[9]\n",
    "\n",
    "    avg_off_rating = agg_off_rating/len(team1_roster_lastn)\n",
    "\n",
    "    print('agg_off_rating', agg_off_rating, 'avg_off_rating', avg_off_rating, 'agg_min', agg_min, \n",
    "          'agg_off_rat_min', agg_off_rating/agg_min) "
   ]
  },
  {
   "cell_type": "code",
   "execution_count": 173,
   "metadata": {},
   "outputs": [
    {
     "name": "stdout",
     "output_type": "stream",
     "text": [
      "Aaron Gordon \n",
      " E_Off_Rating 95.6 Min 29.1\n",
      "Al-Farouq Aminu \n",
      " E_Off_Rating 91.1 Min 23.6\n",
      "Amile Jefferson \n",
      " E_Off_Rating 109.4 Min 5.6\n",
      "D.J. Augustin \n",
      " E_Off_Rating 96.0 Min 25.0\n",
      "Evan Fournier \n",
      " E_Off_Rating 99.5 Min 27.3\n",
      "Jonathan Isaac \n",
      " E_Off_Rating 100.5 Min 28.5\n",
      "Josh Magette \n",
      " E_Off_Rating 109.4 Min 5.6\n",
      "Khem Birch \n",
      " E_Off_Rating 74.2 Min 22.9\n",
      "Markelle Fultz \n",
      " E_Off_Rating 93.6 Min 22.8\n",
      "Melvin Frazier Jr. \n",
      " E_Off_Rating 109.4 Min 5.6\n",
      "Michael Carter-Williams \n",
      " E_Off_Rating 98.9 Min 13.1\n",
      "Mo Bamba \n",
      " E_Off_Rating 81.2 Min 13.7\n",
      "Nikola Vucevic \n",
      " E_Off_Rating 101.2 Min 29.9\n",
      "Terrence Ross \n",
      " E_Off_Rating 83.6 Min 22.0\n",
      "Wes Iwundu \n",
      " E_Off_Rating 64.6 Min 12.7\n",
      "agg_off_rating 26677.229999999996 avg_off_rating 1778.4819999999997 agg_min 287.40000000000003 agg_off_rat_min 92.82265135699372\n"
     ]
    }
   ],
   "source": [
    "off_per_calc_alt(team1_roster_lastn, team1)"
   ]
  },
  {
   "cell_type": "code",
   "execution_count": 174,
   "metadata": {},
   "outputs": [
    {
     "name": "stdout",
     "output_type": "stream",
     "text": [
      "headers: ['PLAYER_ID', 'PLAYER_NAME', 'TEAM_ID', 'TEAM_ABBREVIATION', 'AGE', 'GP', 'W', 'L', 'W_PCT', 'MIN', 'DEF_RATING', 'DREB', 'DREB_PCT', 'PCT_DREB', 'STL', 'PCT_STL', 'BLK', 'PCT_BLK', 'OPP_PTS_OFF_TOV', 'OPP_PTS_2ND_CHANCE', 'OPP_PTS_FB', 'OPP_PTS_PAINT', 'DEF_WS', 'GP_RANK', 'W_RANK', 'L_RANK', 'W_PCT_RANK', 'MIN_RANK', 'DEF_RATING_RANK', 'DREB_RANK', 'DREB_PCT_RANK', 'PCT_DREB_RANK', 'STL_RANK', 'PCT_STL_RANK', 'BLK_RANK', 'PCT_BLK_RANK', 'OPP_PTS_OFF_TOV_RANK', 'OPP_PTS_2ND_CHANCE_RANK', 'OPP_PTS_FB_RANK', 'OPP_PTS_PAINT_RANK', 'DEF_WS_RANK', 'CFID', 'CFPARAMS']\n",
      "Aaron Gordon \n",
      " Def Rating 97.4 Min 145.4\n",
      "Al-Farouq Aminu \n",
      " Def Rating 91.6 Min 117.95833333333333\n",
      "Amile Jefferson \n",
      " Def Rating 125.0 Min 5.6\n",
      "D.J. Augustin \n",
      " Def Rating 98.1 Min 124.88333333333334\n",
      "Evan Fournier \n",
      " Def Rating 103.1 Min 136.35\n",
      "Jonathan Isaac \n",
      " Def Rating 100.0 Min 142.525\n",
      "Josh Magette \n",
      " Def Rating 125.0 Min 5.6\n",
      "Khem Birch \n",
      " Def Rating 132.7 Min 22.916666666666668\n",
      "Markelle Fultz \n",
      " Def Rating 96.3 Min 113.86666666666666\n",
      "Melvin Frazier Jr. \n",
      " Def Rating 125.0 Min 5.6\n",
      "Michael Carter-Williams \n",
      " Def Rating 100.0 Min 52.40833333333333\n",
      "Mo Bamba \n",
      " Def Rating 80.7 Min 54.75\n",
      "Nikola Vucevic \n",
      " Def Rating 99.0 Min 149.33333333333334\n",
      "Terrence Ross \n",
      " Def Rating 91.1 Min 110.075\n",
      "Wes Iwundu \n",
      " Def Rating 142.9 Min 12.733333333333333\n",
      "agg_def_rating 117925.16916666667 avg_def_rating 7861.677944444445 agg_min 1200.0\n"
     ]
    }
   ],
   "source": [
    "#Individual Player Defense Stats\n",
    "\n",
    "agg_def_rating = 0\n",
    "agg_min = 0\n",
    "\n",
    "player_info_def = leaguedashplayerstats.LeagueDashPlayerStats(last_n_games=5, season='2019-20', \n",
    "                                                              measure_type_detailed_defense='Defense')\n",
    "\n",
    "player_def_headers = player_info_def.league_dash_player_stats.get_dict().get('headers')\n",
    "player_def_data = player_info_def.league_dash_player_stats.get_dict().get('data')\n",
    "\n",
    "print('headers:', player_def_headers)\n",
    "#print('data:', player_def_data)\n",
    "\n",
    "for p in team1_roster_lastn:\n",
    "    for n in player_def_data:\n",
    "        if p in n:\n",
    "            print(n[1], '\\n', 'Def Rating', n[10], 'Min', n[9])\n",
    "            agg_def_rating += (n[10]*n[9])\n",
    "            agg_min += n[9]\n",
    "\n",
    "avg_def_rating = agg_def_rating/len(team1_roster_lastn)\n",
    "\n",
    "print('agg_def_rating', agg_def_rating, 'avg_def_rating', avg_def_rating, 'agg_min', agg_min) "
   ]
  },
  {
   "cell_type": "code",
   "execution_count": 175,
   "metadata": {},
   "outputs": [
    {
     "name": "stdout",
     "output_type": "stream",
     "text": [
      "98.27097430555555\n"
     ]
    }
   ],
   "source": [
    "avg_def_rating_min = agg_def_rating/agg_min\n",
    "print(avg_def_rating_min)"
   ]
  },
  {
   "cell_type": "code",
   "execution_count": null,
   "metadata": {
    "collapsed": true
   },
   "outputs": [],
   "source": []
  },
  {
   "cell_type": "code",
   "execution_count": null,
   "metadata": {
    "collapsed": true
   },
   "outputs": [],
   "source": [
    "#Theory: If second game of back-to-back is a road game, odds of winning decrease 7-8%, multiply ratings by 0.93."
   ]
  }
 ],
 "metadata": {
  "kernelspec": {
   "display_name": "Python 3",
   "language": "python",
   "name": "python3"
  },
  "language_info": {
   "codemirror_mode": {
    "name": "ipython",
    "version": 3
   },
   "file_extension": ".py",
   "mimetype": "text/x-python",
   "name": "python",
   "nbconvert_exporter": "python",
   "pygments_lexer": "ipython3",
   "version": "3.6.3"
  }
 },
 "nbformat": 4,
 "nbformat_minor": 2
}
