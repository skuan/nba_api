{
 "cells": [
  {
   "cell_type": "code",
   "execution_count": 1,
   "metadata": {
    "collapsed": true
   },
   "outputs": [],
   "source": [
    "from nba_api.stats.endpoints import commonplayerinfo\n",
    "from nba_api.stats.endpoints._base import Endpoint\n",
    "from nba_api.stats.library.http import NBAStatsHTTP\n",
    "from nba_api.stats.endpoints import playerdashboardbyteamperformance\n",
    "from nba_api.stats.endpoints import leaguedashplayerstats\n",
    "from nba_api.stats.endpoints import teamdashboardbyteamperformance\n",
    "from nba_api.stats.endpoints import playerdashboardbylastngames\n",
    "from nba_api.stats.endpoints import teamdashboardbylastngames\n",
    "from nba_api.stats.endpoints import teamplayerdashboard\n",
    "from nba_api.stats.static import teams\n",
    "from nba_api.stats.static import players\n",
    "import pandas\n",
    "import inspect"
   ]
  },
  {
   "cell_type": "code",
   "execution_count": 2,
   "metadata": {},
   "outputs": [
    {
     "name": "stdout",
     "output_type": "stream",
     "text": [
      "Enter player 1: alex caruso\n",
      "alex caruso\n"
     ]
    },
    {
     "ename": "IndexError",
     "evalue": "list index out of range",
     "output_type": "error",
     "traceback": [
      "\u001b[0;31m---------------------------------------------------------------------------\u001b[0m",
      "\u001b[0;31mIndexError\u001b[0m                                Traceback (most recent call last)",
      "\u001b[0;32m<ipython-input-2-ccc9e2c771b5>\u001b[0m in \u001b[0;36m<module>\u001b[0;34m()\u001b[0m\n\u001b[1;32m     14\u001b[0m \u001b[0;31m##last 20 games\u001b[0m\u001b[0;34m\u001b[0m\u001b[0;34m\u001b[0m\u001b[0m\n\u001b[1;32m     15\u001b[0m \u001b[0mplayer_headers\u001b[0m \u001b[0;34m=\u001b[0m \u001b[0mplayer_info\u001b[0m\u001b[0;34m.\u001b[0m\u001b[0mlast20_player_dashboard\u001b[0m\u001b[0;34m.\u001b[0m\u001b[0mget_dict\u001b[0m\u001b[0;34m(\u001b[0m\u001b[0;34m)\u001b[0m\u001b[0;34m.\u001b[0m\u001b[0mget\u001b[0m\u001b[0;34m(\u001b[0m\u001b[0;34m'headers'\u001b[0m\u001b[0;34m)\u001b[0m\u001b[0;34m\u001b[0m\u001b[0m\n\u001b[0;32m---> 16\u001b[0;31m \u001b[0mplayer_data\u001b[0m \u001b[0;34m=\u001b[0m \u001b[0mplayer_info\u001b[0m\u001b[0;34m.\u001b[0m\u001b[0mlast20_player_dashboard\u001b[0m\u001b[0;34m.\u001b[0m\u001b[0mget_dict\u001b[0m\u001b[0;34m(\u001b[0m\u001b[0;34m)\u001b[0m\u001b[0;34m.\u001b[0m\u001b[0mget\u001b[0m\u001b[0;34m(\u001b[0m\u001b[0;34m'data'\u001b[0m\u001b[0;34m)\u001b[0m\u001b[0;34m[\u001b[0m\u001b[0;36m0\u001b[0m\u001b[0;34m]\u001b[0m\u001b[0;34m\u001b[0m\u001b[0m\n\u001b[0m\u001b[1;32m     17\u001b[0m \u001b[0;34m\u001b[0m\u001b[0m\n\u001b[1;32m     18\u001b[0m print(player_headers[5], player_data[5], \n",
      "\u001b[0;31mIndexError\u001b[0m: list index out of range"
     ]
    }
   ],
   "source": [
    "#Player Input\n",
    "\n",
    "player1_input = input('Enter player 1: ')\n",
    "print(player1_input)\n",
    "\n",
    "player1 = players.find_players_by_full_name(player1_input)[0]['id']\n",
    "player1_name = players.find_players_by_full_name(player1_input)[0]['full_name']\n",
    "\n",
    "player_info = playerdashboardbylastngames.PlayerDashboardByLastNGames(player_id=player1)\n",
    "\n",
    "# player_headers = player_info.overall_player_dashboard.get_dict().get('headers')\n",
    "# player_data = player_info.overall_player_dashboard.get_dict().get('data')[0]\n",
    "\n",
    "##last 20 games\n",
    "player_headers = player_info.last20_player_dashboard.get_dict().get('headers')\n",
    "player_data = player_info.last20_player_dashboard.get_dict().get('data')[0]\n",
    "\n",
    "print(player_headers[5], player_data[5], \n",
    "\tplayer_headers[2], player_data[2], \n",
    "\tplayer_headers[26], player_data[26],\n",
    "\tplayer_headers[27], player_data[27])"
   ]
  },
  {
   "cell_type": "code",
   "execution_count": 5,
   "metadata": {},
   "outputs": [
    {
     "name": "stdout",
     "output_type": "stream",
     "text": [
      "Enter team 1: lakers\n",
      "lakers\n"
     ]
    },
    {
     "ename": "IndexError",
     "evalue": "list index out of range",
     "output_type": "error",
     "traceback": [
      "\u001b[0;31m---------------------------------------------------------------------------\u001b[0m",
      "\u001b[0;31mIndexError\u001b[0m                                Traceback (most recent call last)",
      "\u001b[0;32m<ipython-input-5-b8933026a4e9>\u001b[0m in \u001b[0;36m<module>\u001b[0;34m()\u001b[0m\n\u001b[1;32m     10\u001b[0m \u001b[0;34m\u001b[0m\u001b[0m\n\u001b[1;32m     11\u001b[0m \u001b[0mteam_headers\u001b[0m \u001b[0;34m=\u001b[0m \u001b[0mteamdashboard\u001b[0m\u001b[0;34m.\u001b[0m\u001b[0moverall_team_dashboard\u001b[0m\u001b[0;34m.\u001b[0m\u001b[0mget_dict\u001b[0m\u001b[0;34m(\u001b[0m\u001b[0;34m)\u001b[0m\u001b[0;34m.\u001b[0m\u001b[0mget\u001b[0m\u001b[0;34m(\u001b[0m\u001b[0;34m'headers'\u001b[0m\u001b[0;34m)\u001b[0m\u001b[0;34m\u001b[0m\u001b[0m\n\u001b[0;32m---> 12\u001b[0;31m \u001b[0mteam_data\u001b[0m \u001b[0;34m=\u001b[0m \u001b[0mteamdashboard\u001b[0m\u001b[0;34m.\u001b[0m\u001b[0moverall_team_dashboard\u001b[0m\u001b[0;34m.\u001b[0m\u001b[0mget_dict\u001b[0m\u001b[0;34m(\u001b[0m\u001b[0;34m)\u001b[0m\u001b[0;34m.\u001b[0m\u001b[0mget\u001b[0m\u001b[0;34m(\u001b[0m\u001b[0;34m'data'\u001b[0m\u001b[0;34m)\u001b[0m\u001b[0;34m[\u001b[0m\u001b[0;36m0\u001b[0m\u001b[0;34m]\u001b[0m\u001b[0;34m\u001b[0m\u001b[0m\n\u001b[0m\u001b[1;32m     13\u001b[0m \u001b[0;34m\u001b[0m\u001b[0m\n\u001b[1;32m     14\u001b[0m \u001b[0;31m##last 20 games\u001b[0m\u001b[0;34m\u001b[0m\u001b[0;34m\u001b[0m\u001b[0m\n",
      "\u001b[0;31mIndexError\u001b[0m: list index out of range"
     ]
    }
   ],
   "source": [
    "#Team Input\n",
    "\n",
    "team1_input = input('Enter team 1: ')\n",
    "print(team1_input)\n",
    "team1 = teams.find_teams_by_full_name(team1_input)[0]['id']\n",
    "\n",
    "teamdashboard = teamdashboardbylastngames.TeamDashboardByLastNGames(team_id=team1)\n",
    "teamdashboard_adv = teamdashboardbylastngames.TeamDashboardByLastNGames(team_id=team1, \n",
    "                                                                    measure_type_detailed_defense='Advanced')\n",
    "\n",
    "# team_headers = teamdashboard.overall_team_dashboard.get_dict().get('headers')\n",
    "# team_data = teamdashboard.overall_team_dashboard.get_dict().get('data')[0]\n",
    "\n",
    "##last 20 games\n",
    "team_headers_basic = teamdashboard.last20_team_dashboard.get_dict().get('headers')\n",
    "team_data_basic = teamdashboard.last20_team_dashboard.get_dict().get('data')[0]\n",
    "team_headers = teamdashboard_adv.last20_team_dashboard.get_dict().get('headers')\n",
    "team_data = teamdashboard_adv.last20_team_dashboard.get_dict().get('data')[0]\n",
    "\n",
    "print(team1, team_headers[23], team_data[23], team_headers[10], team_data[10], \n",
    "      team_headers[2], team_data[2], team_headers[3], team_data[3], \n",
    "      team_headers[4], team_data[4], team_headers_basic[9], team_data_basic[9])"
   ]
  },
  {
   "cell_type": "code",
   "execution_count": 58,
   "metadata": {},
   "outputs": [
    {
     "name": "stdout",
     "output_type": "stream",
     "text": [
      "league stats: 0.6022253005842968 1.0778953898646815 0.7721238938053098\n",
      "1627936 mp 511.5366666666667\n",
      "team ast 528 team FG 1041 team_pace 102.53\n"
     ]
    }
   ],
   "source": [
    "###PER stats (2018-19)####\n",
    "lg_AST = 24.6\n",
    "lg_FG = 41.1\n",
    "lg_PTS = 111.2\n",
    "lg_FGA = 89.2\n",
    "lg_FT = 17.7\n",
    "lg_FTA = 23.1\n",
    "lg_TRB = 45.2\n",
    "lg_ORB = 10.3\n",
    "lg_TOV = 14.1\n",
    "lg_PF = 20.9\n",
    "lg_pace = 100\n",
    "\n",
    "factor = (2/3) - (0.5*(lg_AST/lg_FG)) / (2*(lg_FG/lg_FT)) \n",
    "VOP = lg_PTS / (lg_FGA-lg_ORB+lg_TOV+0.44*lg_FTA) \n",
    "DRB_perc = (lg_TRB -lg_ORB) / lg_TRB\n",
    " \n",
    "print('league stats:', factor, VOP, DRB_perc)\n",
    "\n",
    "#####PER player stats####\n",
    "MP = player_data[6]\n",
    "ThrP = player_data[10] \n",
    "AST = player_data[19]\n",
    "TOV = player_data[20]\n",
    "FGA = player_data[8]\n",
    "FG = player_data[7] + player_data[10] \n",
    "FTA = player_data[14]\n",
    "FT = player_data[13]\n",
    "TRB = player_data[18]\n",
    "ORB = player_data[16]\n",
    "STL = player_data[21]\n",
    "BLK = player_data[22]\n",
    "PF = player_data[24]\n",
    "print(player1, 'mp', MP)\n",
    "\n",
    "####PER team stats####\n",
    "team_AST = team_data_basic[19]\n",
    "team_FG = team_data_basic[7]+team_data_basic[10]\n",
    "team_pace = team_data[23] \n",
    "print('team ast', team_AST, 'team FG', team_FG, 'team_pace', team_pace)"
   ]
  },
  {
   "cell_type": "code",
   "execution_count": 59,
   "metadata": {},
   "outputs": [
    {
     "name": "stdout",
     "output_type": "stream",
     "text": [
      "0.4292969468108909 0.4187037421348785\n"
     ]
    }
   ],
   "source": [
    "####PER Calculation####                    \n",
    "PER_calc_player = (1 / MP) * ( ThrP + (2/3) * AST\n",
    "     + (2 - factor * (team_AST / team_FG)) * FG\n",
    "     + (FT *0.5 * (1 + (1 - (team_AST / team_FG)) + (2/3) * (team_AST / team_FG)))\n",
    "     - VOP * TOV - VOP * DRB_perc * (FGA - FG)\n",
    "     - VOP * 0.44 * (0.44 + (0.56 * DRB_perc)) * (FTA - FT)\n",
    "     + VOP * (1 - DRB_perc) * (TRB - ORB) + VOP * DRB_perc * ORB + VOP * STL + VOP * DRB_perc * BLK - PF * ((lg_FT / lg_PF) - 0.44 * (lg_FTA / lg_PF) * VOP) )\n",
    "\n",
    "adj_PER_calc_player = PER_calc_player * (lg_pace /team_pace)\n",
    "\n",
    "print(PER_calc_player, adj_PER_calc_player)"
   ]
  },
  {
   "cell_type": "code",
   "execution_count": 60,
   "metadata": {},
   "outputs": [
    {
     "name": "stdout",
     "output_type": "stream",
     "text": [
      "[1627936, 'Alex Caruso', 1610612747, 'LAL', 25.0, 19, 7, 12, 0.368, 509.88666666666666, 103.2, 47, 0.083, 0.125, 24, 0.279, 7, 0.132, 199, 149, 161, 470, 0.19, 104, 197, 398, 316, 99, 82, 187, 379, 366, 28, 90, 130, 233, 429, 392, 396, 333, 28, 5, '1627936,1610612747']\n"
     ]
    }
   ],
   "source": [
    "#Individual Player Defense Stats\n",
    "\n",
    "player_info_def = leaguedashplayerstats.LeagueDashPlayerStats(last_n_games=20, measure_type_detailed_defense='Defense')\n",
    "\n",
    "player_def_headers = player_info_def.league_dash_player_stats.get_dict().get('headers')\n",
    "player_def_data = player_info_def.league_dash_player_stats.get_dict().get('data')\n",
    "\n",
    "#print('headers:', player_def_headers)\n",
    "#print('data:', player_def_data)\n",
    "for n in player_def_data:\n",
    "    if player1 in n:\n",
    "        print(n)\n"
   ]
  },
  {
   "cell_type": "code",
   "execution_count": 61,
   "metadata": {},
   "outputs": [
    {
     "name": "stdout",
     "output_type": "stream",
     "text": [
      "Alex Caruso GP: 19 id: 1627936 Min 509.88666666666666\n",
      "Andre Ingram GP: 4 id: 201281 Min 14.626666666666667\n",
      "Brandon Ingram GP: 1 id: 1627742 Min 39.1\n",
      "Isaac Bonga GP: 14 id: 1629067 Min 89.50833333333334\n",
      "JaVale McGee GP: 20 id: 201580 Min 510.68833333333333\n",
      "Jemerrio Jones GP: 6 id: 1629203 Min 143.11666666666667\n",
      "Johnathan Williams GP: 17 id: 1629140 Min 282.28333333333336\n",
      "Josh Hart GP: 8 id: 1628404 Min 211.65166666666667\n",
      "Kentavious Caldwell-Pope GP: 20 id: 203484 Min 582.175\n",
      "Kyle Kuzma GP: 12 id: 1628398 Min 408.99666666666667\n",
      "Lance Stephenson GP: 8 id: 202362 Min 180.09166666666667\n",
      "LeBron James GP: 11 id: 2544 Min 380.05833333333334\n",
      "Mike Muscala GP: 13 id: 203488 Min 221.27666666666667\n",
      "Moritz Wagner GP: 20 id: 1629021 Min 292.24\n",
      "Rajon Rondo GP: 18 id: 200765 Min 583.9866666666667\n",
      "Reggie Bullock GP: 12 id: 203493 Min 297.1816666666667\n",
      "Scott Machado GP: 4 id: 203159 Min 19.166666666666668\n",
      "Tyson Chandler GP: 3 id: 2199 Min 33.965\n",
      "['Alex Caruso', 'Andre Ingram', 'Brandon Ingram', 'Isaac Bonga', 'JaVale McGee', 'Jemerrio Jones', 'Johnathan Williams', 'Josh Hart', 'Kentavious Caldwell-Pope', 'Kyle Kuzma', 'Lance Stephenson', 'LeBron James', 'Mike Muscala', 'Moritz Wagner', 'Rajon Rondo', 'Reggie Bullock', 'Scott Machado', 'Tyson Chandler']\n"
     ]
    }
   ],
   "source": [
    "roster1 = teamplayerdashboard.TeamPlayerDashboard(team_id=team1, last_n_games=20).get_dict()#.PlayersSeasonTotals(team_id=team1, last_n_games=20)\n",
    "team1_roster_last20 = []\n",
    "\n",
    "#print(roster1)['resultSets'][1])#['rowSet'])\n",
    "for n in roster1['resultSets'][1]['rowSet']:\n",
    "    print(n[2], 'GP:', n[3], 'id:', n[1], 'Min', n[7])\n",
    "    team1_roster_last20.append(n[2])\n",
    "    \n",
    "print(team1_roster_last20)"
   ]
  },
  {
   "cell_type": "code",
   "execution_count": null,
   "metadata": {
    "collapsed": true
   },
   "outputs": [],
   "source": []
  },
  {
   "cell_type": "code",
   "execution_count": null,
   "metadata": {
    "collapsed": true
   },
   "outputs": [],
   "source": [
    "#Theory: If second game of back-to-back is a road game, odds of winning decrease 7-8%, multiply ratings by 0.93."
   ]
  }
 ],
 "metadata": {
  "kernelspec": {
   "display_name": "Python 3",
   "language": "python",
   "name": "python3"
  },
  "language_info": {
   "codemirror_mode": {
    "name": "ipython",
    "version": 3
   },
   "file_extension": ".py",
   "mimetype": "text/x-python",
   "name": "python",
   "nbconvert_exporter": "python",
   "pygments_lexer": "ipython3",
   "version": "3.6.3"
  }
 },
 "nbformat": 4,
 "nbformat_minor": 2
}
