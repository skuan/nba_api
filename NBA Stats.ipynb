{
 "cells": [
  {
   "cell_type": "code",
   "execution_count": 60,
   "metadata": {
    "collapsed": true
   },
   "outputs": [],
   "source": [
    "from nba_api.stats.endpoints import commonplayerinfo\n",
    "from nba_api.stats.endpoints._base import Endpoint\n",
    "from nba_api.stats.library.http import NBAStatsHTTP\n",
    "from nba_api.stats.endpoints import playerdashboardbyteamperformance\n",
    "from nba_api.stats.endpoints import teamdashboardbyteamperformance\n",
    "from nba_api.stats.endpoints import playerdashboardbylastngames\n",
    "from nba_api.stats.endpoints import teamplayerdashboard\n",
    "from nba_api.stats.static import teams\n",
    "from nba_api.stats.static import players\n",
    "import pandas"
   ]
  },
  {
   "cell_type": "code",
   "execution_count": 61,
   "metadata": {},
   "outputs": [
    {
     "name": "stdout",
     "output_type": "stream",
     "text": [
      "Enter player 1: lebron james\n",
      "lebron james\n",
      "W_PCT 0.509 GP 55 PTS 1505 PLUS_MINUS 116\n"
     ]
    }
   ],
   "source": [
    "# Basic Request\n",
    "#player_info = commonplayerinfo.CommonPlayerInfo(player_id=2544)\n",
    "#player_info = commonplayerinfo.player_headline_stats(player_id=2544)\n",
    "#playerdashboard = playerdashboardbyteamperformance.PlayerDashboardByTeamPerformance(player_id=2544)\n",
    "#print(playerdashboard.overall_player_dashboard.get_json())\n",
    "\n",
    "player1_input = input('Enter player 1: ')\n",
    "print(player1_input)\n",
    "\n",
    "player1 = players.find_players_by_full_name(player1_input)[0]['id']\n",
    "\n",
    "player_info = playerdashboardbylastngames.PlayerDashboardByLastNGames(player_id=player1)\n",
    "player_headers = player_info.overall_player_dashboard.get_dict().get('headers')\n",
    "player_data = player_info.overall_player_dashboard.get_dict().get('data')[0]\n",
    "\n",
    "###last 20 games###\n",
    "#player_headers = player_info.last20_player_dashboard.get_dict().get('headers')\n",
    "#player_data = player_info.last20_player_dashboard.get_dict().get('data')[0]\n",
    "\n",
    "print(player_headers[5], player_data[5], \n",
    "\tplayer_headers[2], player_data[2], \n",
    "\tplayer_headers[26], player_data[26],\n",
    "\tplayer_headers[27], player_data[27])"
   ]
  },
  {
   "cell_type": "code",
   "execution_count": 62,
   "metadata": {},
   "outputs": [
    {
     "name": "stdout",
     "output_type": "stream",
     "text": [
      "Enter team 1: lakers\n",
      "lakers\n",
      "1610612747\n",
      "Season:  2018-19\n",
      "FG_PCT :  0.47\n"
     ]
    }
   ],
   "source": [
    "team1_input = input('Enter team 1: ')\n",
    "print(team1_input)\n",
    "\n",
    "team1 = teams.find_teams_by_full_name(team1_input)[0]['id']\n",
    "print(team1)\n",
    "teamdashboard = teamdashboardbyteamperformance.TeamDashboardByTeamPerformance(team_id=team1)\n",
    "team_headers = teamdashboard.overall_team_dashboard.get_dict().get('headers')\n",
    "team_data = teamdashboard.overall_team_dashboard.get_dict().get('data')[0]\n",
    "\n",
    "print('Season: ', team_data[-1])\n",
    "print(team_headers[9], ': ', team_data[9])"
   ]
  },
  {
   "cell_type": "code",
   "execution_count": 63,
   "metadata": {},
   "outputs": [
    {
     "name": "stdout",
     "output_type": "stream",
     "text": [
      "league stats: 0.6022253005842968 1.0778953898646815 0.7721238938053098\n",
      "1937.4016666666666\n",
      "2096 4338\n"
     ]
    }
   ],
   "source": [
    "###PER stats (2018-19)####\n",
    "lg_AST = 24.6\n",
    "lg_FG = 41.1\n",
    "lg_PTS = 111.2\n",
    "lg_FGA = 89.2\n",
    "lg_FT = 17.7\n",
    "lg_FTA = 23.1\n",
    "lg_TRB = 45.2\n",
    "lg_ORB = 10.3\n",
    "lg_TOV = 14.1\n",
    "lg_PF = 20.9\n",
    "lg_pace = 100\n",
    "\n",
    "factor = (2/3) - (0.5*(lg_AST/lg_FG)) / (2*(lg_FG/lg_FT)) \n",
    "VOP = lg_PTS / (lg_FGA-lg_ORB+lg_TOV+0.44*lg_FTA) \n",
    "DRB_perc = (lg_TRB -lg_ORB) / lg_TRB\n",
    " \n",
    "print('league stats:', factor, VOP, DRB_perc)\n",
    "\n",
    "#####PER player stats####\n",
    "MP = player_data[6]\n",
    "ThrP = player_data[10] \n",
    "AST = player_data[19]\n",
    "TOV = player_data[20]\n",
    "FGA = player_data[8]\n",
    "FG = player_data[7] + player_data[10] \n",
    "FTA = player_data[14]\n",
    "FT = player_data[13]\n",
    "TRB = player_data[18]\n",
    "ORB = player_data[16]\n",
    "STL = player_data[21]\n",
    "BLK = player_data[22]\n",
    "PF = player_data[24]\n",
    "print(MP)\n",
    "\n",
    "####PER team stats####\n",
    "team_AST = team_data[19]\n",
    "team_FG = team_data[7]+team_data[10]\n",
    "team_pace = 103.2 #Lakers\n",
    "print(team_AST, team_FG)"
   ]
  },
  {
   "cell_type": "code",
   "execution_count": 64,
   "metadata": {},
   "outputs": [
    {
     "name": "stdout",
     "output_type": "stream",
     "text": [
      "0.727878630589535 0.7053087505712548\n"
     ]
    }
   ],
   "source": [
    "####PER Calculation####                    \n",
    "PER_calc_player = (1 / MP) * ( ThrP + (2/3) * AST\n",
    "     + (2 - factor * (team_AST / team_FG)) * FG\n",
    "     + (FT *0.5 * (1 + (1 - (team_AST / team_FG)) + (2/3) * (team_AST / team_FG)))\n",
    "     - VOP * TOV - VOP * DRB_perc * (FGA - FG)\n",
    "     - VOP * 0.44 * (0.44 + (0.56 * DRB_perc)) * (FTA - FT)\n",
    "     + VOP * (1 - DRB_perc) * (TRB - ORB) + VOP * DRB_perc * ORB + VOP * STL + VOP * DRB_perc * BLK - PF * ((lg_FT / lg_PF) - 0.44 * (lg_FTA / lg_PF) * VOP) )\n",
    "\n",
    "adj_PER_calc_player = PER_calc_player * (lg_pace /team_pace)\n",
    "\n",
    "\n",
    "print(PER_calc_player, adj_PER_calc_player)"
   ]
  },
  {
   "cell_type": "code",
   "execution_count": 16,
   "metadata": {},
   "outputs": [
    {
     "name": "stdout",
     "output_type": "stream",
     "text": [
      "{'resource': 'teamplayerdashboard', 'parameters': {'MeasureType': 'Base', 'PerMode': 'Totals', 'PlusMinus': 'N', 'PaceAdjust': 'N', 'Rank': 'N', 'LeagueID': None, 'Season': '2018-19', 'SeasonType': 'Regular Season', 'PORound': None, 'TeamID': 1610612747, 'Outcome': None, 'Location': None, 'Month': 0, 'SeasonSegment': None, 'DateFrom': None, 'DateTo': None, 'OpponentTeamID': 0, 'VsConference': None, 'VsDivision': None, 'GameSegment': None, 'Period': 0, 'ShotClockRange': None, 'LastNGames': 20}, 'resultSets': [{'name': 'TeamOverall', 'headers': ['GROUP_SET', 'TEAM_ID', 'TEAM_NAME', 'GROUP_VALUE', 'GP', 'W', 'L', 'W_PCT', 'MIN', 'FGM', 'FGA', 'FG_PCT', 'FG3M', 'FG3A', 'FG3_PCT', 'FTM', 'FTA', 'FT_PCT', 'OREB', 'DREB', 'REB', 'AST', 'TOV', 'STL', 'BLK', 'BLKA', 'PF', 'PFD', 'PTS', 'PLUS_MINUS', 'GP_RANK', 'W_RANK', 'L_RANK', 'W_PCT_RANK', 'MIN_RANK', 'FGM_RANK', 'FGA_RANK', 'FG_PCT_RANK', 'FG3M_RANK', 'FG3A_RANK', 'FG3_PCT_RANK', 'FTM_RANK', 'FTA_RANK', 'FT_PCT_RANK', 'OREB_RANK', 'DREB_RANK', 'REB_RANK', 'AST_RANK', 'TOV_RANK', 'STL_RANK', 'BLK_RANK', 'BLKA_RANK', 'PF_RANK', 'PFD_RANK', 'PTS_RANK', 'PLUS_MINUS_RANK'], 'rowSet': [['Overall', 1610612747, 'Los Angeles Lakers', '2018-19', 20, 7, 13, 0.35, 960.0, 832, 1821, 0.457, 209, 654, 0.32, 318, 435, 0.731, 215, 713, 928, 528, 303.0, 156, 103, 92, 411, 384, 2191, -55.0, 1, 1, 1, 1, 1, 1, 1, 1, 1, 1, 1, 1, 1, 1, 1, 1, 1, 1, 1, 1, 1, 1, 1, 1, 1, 1]]}, {'name': 'PlayersSeasonTotals', 'headers': ['GROUP_SET', 'PLAYER_ID', 'PLAYER_NAME', 'GP', 'W', 'L', 'W_PCT', 'MIN', 'FGM', 'FGA', 'FG_PCT', 'FG3M', 'FG3A', 'FG3_PCT', 'FTM', 'FTA', 'FT_PCT', 'OREB', 'DREB', 'REB', 'AST', 'TOV', 'STL', 'BLK', 'BLKA', 'PF', 'PFD', 'PTS', 'PLUS_MINUS', 'NBA_FANTASY_PTS', 'DD2', 'TD3', 'GP_RANK', 'W_RANK', 'L_RANK', 'W_PCT_RANK', 'MIN_RANK', 'FGM_RANK', 'FGA_RANK', 'FG_PCT_RANK', 'FG3M_RANK', 'FG3A_RANK', 'FG3_PCT_RANK', 'FTM_RANK', 'FTA_RANK', 'FT_PCT_RANK', 'OREB_RANK', 'DREB_RANK', 'REB_RANK', 'AST_RANK', 'TOV_RANK', 'STL_RANK', 'BLK_RANK', 'BLKA_RANK', 'PF_RANK', 'PFD_RANK', 'PTS_RANK', 'PLUS_MINUS_RANK', 'NBA_FANTASY_PTS_RANK', 'DD2_RANK', 'TD3_RANK'], 'rowSet': [['Players', 1627936, 'Alex Caruso', 19, 7, 12, 0.368, 509.88666666666666, 75, 169, 0.444, 23, 49, 0.469, 50, 60, 0.833, 19, 47, 66, 76, 42, 24, 7, 17, 51, 56, 223, 43, 467.2, 3, 0, 4, 1, 14, 4, 4, 4, 6, 8, 2, 6, 3, 2, 2, 5, 3, 5, 6, 3, 3, 2, 3, 18, 17, 2, 4, 2, 5, 4, 3], ['Players', 201281, 'Andre Ingram', 4, 1, 3, 0.25, 14.626666666666667, 0, 6, 0.0, 0, 3, 0.0, 0, 0, 0.0, 1, 1, 2, 0, 1, 1, 0, 0, 0, 1, 0, 5, 4.4, 0, 0, 15, 15, 4, 15, 18, 18, 16, 18, 14, 14, 14, 18, 18, 18, 14, 17, 17, 17, 17, 15, 16, 1, 1, 17, 18, 6, 18, 9, 3], ['Players', 1627742, 'Brandon Ingram', 1, 0, 1, 0.0, 39.1, 10, 19, 0.526, 2, 2, 1.0, 3, 4, 0.75, 1, 6, 7, 1, 3, 0, 0, 2, 4, 7, 25, -5, 31.9, 0, 0, 18, 18, 1, 18, 15, 14, 15, 5, 11, 15, 1, 14, 14, 7, 14, 16, 16, 16, 14, 17, 16, 6, 3, 11, 14, 9, 15, 9, 3], ['Players', 1629067, 'Isaac Bonga', 14, 5, 9, 0.357, 89.50833333333334, 3, 23, 0.13, 0, 6, 0.0, 5, 8, 0.625, 6, 13, 19, 9, 4, 6, 4, 4, 6, 5, 11, 10, 73.3, 0, 0, 7, 7, 10, 6, 14, 16, 14, 17, 14, 12, 14, 13, 10, 13, 10, 14, 14, 11, 13, 10, 8, 8, 5, 14, 15, 5, 14, 9, 3], ['Players', 201580, 'JaVale McGee', 20, 7, 13, 0.35, 510.68833333333333, 136, 206, 0.66, 0, 4, 0.0, 25, 43, 0.581, 66, 135, 201, 14, 30, 15, 43, 4, 68, 50, 297, -59, 703.2, 8, 0, 1, 1, 16, 8, 3, 1, 3, 3, 14, 13, 14, 7, 5, 15, 1, 1, 1, 7, 4, 4, 1, 8, 18, 3, 3, 15, 1, 1, 3], ['Players', 1629203, 'Jemerrio Jones', 6, 3, 3, 0.5, 143.11666666666667, 12, 33, 0.364, 2, 10, 0.2, 1, 2, 0.5, 16, 33, 49, 13, 5, 7, 5, 4, 10, 3, 27, 28, 136.3, 1, 0, 14, 12, 4, 2, 13, 13, 13, 15, 11, 11, 13, 16, 16, 16, 4, 11, 9, 9, 11, 7, 5, 8, 6, 15, 13, 4, 12, 6, 3], ['Players', 1629140, 'Johnathan Williams', 17, 6, 11, 0.353, 282.28333333333336, 54, 90, 0.6, 0, 2, 0.0, 26, 43, 0.605, 37, 41, 78, 9, 14, 7, 3, 8, 42, 36, 134, 71, 257.1, 3, 0, 6, 5, 13, 7, 9, 7, 9, 4, 14, 15, 14, 6, 5, 14, 2, 8, 4, 11, 8, 7, 11, 13, 16, 5, 7, 1, 7, 4, 3], ['Players', 1628404, 'Josh Hart', 8, 1, 7, 0.125, 211.65166666666667, 20, 49, 0.408, 10, 28, 0.357, 6, 8, 0.75, 3, 20, 23, 9, 3, 7, 4, 4, 13, 9, 56, -18, 127.1, 0, 0, 12, 15, 7, 17, 11, 11, 12, 10, 8, 10, 5, 11, 10, 7, 13, 13, 13, 11, 14, 7, 8, 8, 8, 9, 11, 11, 13, 9, 3], ['Players', 203484, 'Kentavious Caldwell-Pope', 20, 7, 13, 0.35, 582.175, 115, 270, 0.426, 55, 155, 0.355, 43, 48, 0.896, 14, 58, 72, 42, 20, 19, 4, 5, 38, 35, 328, -31, 526.4, 0, 0, 1, 1, 16, 8, 2, 3, 1, 9, 1, 1, 6, 3, 4, 2, 5, 4, 5, 4, 6, 3, 8, 12, 14, 6, 1, 14, 4, 9, 3], ['Players', 1628398, 'Kyle Kuzma', 12, 4, 8, 0.333, 408.99666666666667, 75, 187, 0.401, 18, 72, 0.25, 36, 50, 0.72, 10, 46, 56, 35, 20, 6, 5, 14, 36, 40, 204, -29, 336.7, 1, 0, 9, 8, 9, 11, 5, 4, 5, 12, 5, 2, 11, 4, 3, 10, 7, 6, 7, 5, 6, 10, 5, 17, 13, 4, 5, 13, 6, 6, 3], ['Players', 202362, 'Lance Stephenson', 8, 4, 4, 0.5, 180.09166666666667, 20, 58, 0.345, 10, 32, 0.313, 6, 8, 0.75, 5, 34, 39, 20, 11, 5, 1, 1, 12, 7, 56, -18, 139.8, 1, 0, 12, 8, 6, 2, 12, 11, 11, 16, 8, 9, 8, 11, 10, 7, 11, 10, 11, 6, 9, 12, 14, 4, 7, 11, 11, 11, 11, 6, 3], ['Players', 2544, 'LeBron James', 11, 4, 7, 0.364, 380.05833333333334, 122, 242, 0.504, 20, 68, 0.294, 53, 84, 0.631, 10, 74, 84, 107, 44, 9, 5, 8, 21, 75, 317, 29, 576.3, 6, 2, 11, 8, 7, 5, 6, 2, 2, 6, 4, 4, 9, 1, 1, 12, 7, 3, 3, 2, 2, 5, 5, 13, 11, 1, 2, 3, 3, 2, 1], ['Players', 203488, 'Mike Muscala', 13, 4, 9, 0.308, 221.27666666666667, 31, 68, 0.456, 17, 44, 0.386, 7, 8, 0.875, 5, 36, 41, 10, 5, 4, 6, 1, 15, 9, 86, -1, 175.2, 0, 0, 8, 8, 10, 14, 10, 10, 10, 7, 7, 8, 4, 10, 10, 4, 11, 9, 10, 10, 11, 14, 4, 4, 9, 9, 10, 8, 10, 9, 3], ['Players', 1629021, 'Moritz Wagner', 20, 7, 13, 0.35, 292.24, 43, 106, 0.406, 10, 45, 0.222, 34, 38, 0.895, 8, 42, 50, 14, 27, 5, 10, 9, 39, 28, 130, -63, 229.0, 0, 0, 1, 1, 16, 8, 8, 8, 7, 11, 8, 7, 12, 5, 7, 3, 9, 7, 8, 7, 5, 12, 2, 15, 15, 7, 8, 16, 8, 9, 3], ['Players', 200765, 'Rajon Rondo', 18, 6, 12, 0.333, 583.9866666666667, 72, 189, 0.381, 23, 70, 0.329, 10, 14, 0.714, 12, 90, 102, 157, 52, 31, 3, 9, 32, 13, 177, -153, 584.9, 5, 1, 5, 5, 14, 11, 1, 6, 4, 14, 2, 3, 7, 8, 8, 11, 6, 2, 2, 1, 1, 1, 11, 15, 12, 8, 6, 18, 2, 3, 2], ['Players', 203493, 'Reggie Bullock', 12, 2, 10, 0.167, 297.1816666666667, 38, 98, 0.388, 18, 63, 0.286, 10, 12, 0.833, 1, 27, 28, 9, 7, 9, 2, 2, 18, 6, 104, -79, 177.1, 0, 0, 9, 14, 12, 16, 7, 9, 8, 13, 5, 5, 10, 8, 9, 5, 14, 12, 12, 11, 10, 5, 13, 6, 10, 13, 9, 17, 9, 9, 3], ['Players', 203159, 'Scott Machado', 4, 3, 1, 0.75, 19.166666666666668, 4, 6, 0.667, 1, 1, 1.0, 1, 1, 1.0, 0, 0, 0, 3, 0, 1, 0, 0, 2, 1, 10, 0, 17.5, 0, 0, 15, 12, 1, 1, 17, 15, 16, 2, 13, 17, 1, 16, 17, 1, 18, 18, 18, 15, 18, 15, 16, 1, 2, 17, 16, 7, 17, 9, 3], ['Players', 2199, 'Tyson Chandler', 3, 1, 2, 0.333, 33.965, 2, 2, 1.0, 0, 0, 0.0, 2, 4, 0.5, 1, 10, 11, 0, 3, 0, 1, 0, 4, 3, 6, -5, 19.2, 0, 0, 17, 15, 3, 11, 16, 17, 18, 1, 14, 18, 14, 15, 14, 16, 14, 15, 15, 17, 14, 17, 14, 1, 3, 15, 17, 9, 16, 9, 3]]}]}\n"
     ]
    }
   ],
   "source": [
    "roster1 = teamplayerdashboard.TeamPlayerDashboard(team_id=team1, last_n_games=1).get_dict()#.PlayersSeasonTotals(team_id=team1, last_n_games=20)\n",
    "print(roster1)"
   ]
  },
  {
   "cell_type": "code",
   "execution_count": null,
   "metadata": {
    "collapsed": true
   },
   "outputs": [],
   "source": []
  }
 ],
 "metadata": {
  "kernelspec": {
   "display_name": "Python 3",
   "language": "python",
   "name": "python3"
  },
  "language_info": {
   "codemirror_mode": {
    "name": "ipython",
    "version": 3
   },
   "file_extension": ".py",
   "mimetype": "text/x-python",
   "name": "python",
   "nbconvert_exporter": "python",
   "pygments_lexer": "ipython3",
   "version": "3.6.3"
  }
 },
 "nbformat": 4,
 "nbformat_minor": 2
}
