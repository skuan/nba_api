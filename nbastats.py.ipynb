{
 "cells": [
  {
   "cell_type": "code",
   "execution_count": 7,
   "metadata": {},
   "outputs": [
    {
     "name": "stdout",
     "output_type": "stream",
     "text": [
      "Enter player 1: 202681\n",
      "202681\n"
     ]
    },
    {
     "ename": "IndexError",
     "evalue": "list index out of range",
     "output_type": "error",
     "traceback": [
      "\u001b[0;31m---------------------------------------------------------------------------\u001b[0m",
      "\u001b[0;31mIndexError\u001b[0m                                Traceback (most recent call last)",
      "\u001b[0;32m<ipython-input-7-067638d64fc4>\u001b[0m in \u001b[0;36m<module>\u001b[0;34m()\u001b[0m\n\u001b[1;32m     19\u001b[0m \u001b[0mprint\u001b[0m\u001b[0;34m(\u001b[0m\u001b[0mplayer1_input\u001b[0m\u001b[0;34m)\u001b[0m\u001b[0;34m\u001b[0m\u001b[0m\n\u001b[1;32m     20\u001b[0m \u001b[0;34m\u001b[0m\u001b[0m\n\u001b[0;32m---> 21\u001b[0;31m \u001b[0mplayer1\u001b[0m \u001b[0;34m=\u001b[0m \u001b[0mplayers\u001b[0m\u001b[0;34m.\u001b[0m\u001b[0mfind_players_by_full_name\u001b[0m\u001b[0;34m(\u001b[0m\u001b[0mplayer1_input\u001b[0m\u001b[0;34m)\u001b[0m\u001b[0;34m[\u001b[0m\u001b[0;36m0\u001b[0m\u001b[0;34m]\u001b[0m\u001b[0;34m[\u001b[0m\u001b[0;34m'id'\u001b[0m\u001b[0;34m]\u001b[0m\u001b[0;34m\u001b[0m\u001b[0m\n\u001b[0m\u001b[1;32m     22\u001b[0m \u001b[0;34m\u001b[0m\u001b[0m\n\u001b[1;32m     23\u001b[0m \u001b[0mplayer_info\u001b[0m \u001b[0;34m=\u001b[0m \u001b[0mplayerdashboardbylastngames\u001b[0m\u001b[0;34m.\u001b[0m\u001b[0mPlayerDashboardByLastNGames\u001b[0m\u001b[0;34m(\u001b[0m\u001b[0mplayer_id\u001b[0m\u001b[0;34m=\u001b[0m\u001b[0mplayer1\u001b[0m\u001b[0;34m,\u001b[0m \u001b[0mlast_n_games\u001b[0m\u001b[0;34m=\u001b[0m\u001b[0;36m20\u001b[0m\u001b[0;34m)\u001b[0m\u001b[0;34m\u001b[0m\u001b[0m\n",
      "\u001b[0;31mIndexError\u001b[0m: list index out of range"
     ]
    }
   ],
   "source": [
    "from nba_api.stats.endpoints import commonplayerinfo\n",
    "from nba_api.stats.endpoints._base import Endpoint\n",
    "from nba_api.stats.library.http import NBAStatsHTTP\n",
    "from nba_api.stats.endpoints import playerdashboardbyteamperformance\n",
    "from nba_api.stats.endpoints import teamdashboardbyteamperformance\n",
    "from nba_api.stats.endpoints import playerdashboardbylastngames\n",
    "from nba_api.stats.static import teams\n",
    "from nba_api.stats.static import players\n",
    "from nba_api.stats.endpoints import teamdashlineups\n",
    "import pandas\n",
    "\n",
    "# Basic Request\n",
    "#player_info = commonplayerinfo.CommonPlayerInfo(player_id=2544)\n",
    "#player_info = commonplayerinfo.player_headline_stats(player_id=2544)\n",
    "#playerdashboard = playerdashboardbyteamperformance.PlayerDashboardByTeamPerformance(player_id=2544)\n",
    "#print(playerdashboard.overall_player_dashboard.get_json())\n",
    "\n",
    "player1_input = input('Enter player 1: ')\n",
    "print(player1_input)\n",
    "\n",
    "player1 = players.find_players_by_full_name(player1_input)[0]['id']\n",
    "\n",
    "player_info = playerdashboardbylastngames.PlayerDashboardByLastNGames(player_id=player1, last_n_games=20)\n",
    "player_headers = player_info.last20_player_dashboard.get_dict().get('headers')\n",
    "player_data = player_info.last20_player_dashboard.get_dict().get('data')[0]\n",
    "\n",
    "print(player_headers[5], player_data[5], \n",
    "\tplayer_headers[2], player_data[2], \n",
    "\tplayer_headers[26], player_data[26],\n",
    "\tplayer_headers[27], player_data[27])"
   ]
  },
  {
   "cell_type": "code",
   "execution_count": null,
   "metadata": {
    "collapsed": true
   },
   "outputs": [],
   "source": [
    "#PER Calculation\n",
    "factor = (2 / 3) -(0.5 * (lg_AST / lg_FG)) / (2 * (lg_FG / lg_FT)) \n",
    "VOP = lg_PTS / (lg_FGA -lg_ORB + lg_TOV + 0.44 * lg_FTA) \n",
    "DRB_perc = (lg_TRB -lg_ORB) / lg_TRB\n",
    "lg_AST = \n",
    "lg_FG = \n",
    "lg_PTS =\n",
    "lg_FGA =\n",
    "lg_FT = \n",
    "lg_FTA = \n",
    "lg_TRB =\n",
    "lg_ORB =\n",
    "lg_TOV = \n",
    "#####stats####\n",
    "MP = player_data[6]\n",
    "ThrP = player_data[10] \n",
    "AST = player_data[19]\n",
    "team_AST =  \n",
    "team_FG = \n",
    "TOV = player_data[20]\n",
    "FGA = player_data[8]\n",
    "FG = player_data[7]+player_data[10] \n",
    "FTA = player_data[14]\n",
    "FT = player_data[13]\n",
    "TRB = player_data[18]\n",
    "ORB = player_data[16]\n",
    "STL = player_data[21]\n",
    "BLK = player_data[22]\n",
    "PF = player_data[24]\n",
    "\n",
    "\n",
    "PER_calc_player = (1/MP) * [ThrP + (2/3) * AST + \n",
    "(2-factor * (team_AST/team_FG)) * FG + \n",
    "(FT * 0.5 * (1 + (1 -(team_AST/team_FG)) \n",
    "\t+ (2/3) * (team_AST / team_FG))) -VOP * TOV -VOP * DRB_perc * \n",
    "(FGA -FG) -VOP * 0.44 * (0.44 + (0.56 * DRP_perc)) * (FTA -FT) + VOP * \n",
    "(1 -DRB_perc) * (TRB -ORB) + VOP * DRB_perc * ORB + VOP *STL + VOP * DRB_perc * \n",
    "BLK -PF * ((lg_FT / lg_PF) -0.44 * (lg_FTA / lg_PF) * VOP)]"
   ]
  },
  {
   "cell_type": "code",
   "execution_count": 6,
   "metadata": {},
   "outputs": [
    {
     "name": "stdout",
     "output_type": "stream",
     "text": [
      "Enter team 1: lakers\n",
      "team_id :  1610612747\n",
      "2018-19\n",
      "FG_PCT :  0.47\n"
     ]
    }
   ],
   "source": [
    "team1_input = input('Enter team 1: ')\n",
    "team1 = teams.find_teams_by_full_name(team1_input)[0]['id']\n",
    "print('team_id : ', team1)\n",
    "\n",
    "teamdashboard = teamdashboardbyteamperformance.TeamDashboardByTeamPerformance(team_id=team1)\n",
    "team_headers = teamdashboard.overall_team_dashboard.get_dict().get('headers')\n",
    "team_data = teamdashboard.overall_team_dashboard.get_dict().get('data')\n",
    "print(team_data[0][-1])\n",
    "\n",
    "print(team_headers[9], ': ',\n",
    "\tteam_data[0][9])"
   ]
  },
  {
   "cell_type": "code",
   "execution_count": null,
   "metadata": {
    "collapsed": true
   },
   "outputs": [],
   "source": []
  }
 ],
 "metadata": {
  "kernelspec": {
   "display_name": "Python 3",
   "language": "python",
   "name": "python3"
  },
  "language_info": {
   "codemirror_mode": {
    "name": "ipython",
    "version": 3
   },
   "file_extension": ".py",
   "mimetype": "text/x-python",
   "name": "python",
   "nbconvert_exporter": "python",
   "pygments_lexer": "ipython3",
   "version": "3.6.3"
  }
 },
 "nbformat": 4,
 "nbformat_minor": 2
}
